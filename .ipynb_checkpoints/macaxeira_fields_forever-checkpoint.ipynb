{
  "nbformat": 4,
  "nbformat_minor": 0,
  "metadata": {
    "colab": {
      "provenance": []
    },
    "kernelspec": {
      "name": "python3",
      "display_name": "Python 3"
    },
    "language_info": {
      "name": "python"
    }
  },
  "cells": [
    {
      "cell_type": "markdown",
      "source": [
        "#INSTRUÇÕES INICIAIS\n",
        "\n",
        "> ### 1. Acessar https://colab.google/\n",
        "> ### 2. Fazer login com Gmail\n",
        "> ### 3. Deixar Bing, Bard ou ChatGPT disponível em aba do Firefox/Chrome/Edge"
      ],
      "metadata": {
        "id": "Mb6ouoNoNaPi"
      }
    },
    {
      "cell_type": "markdown",
      "source": [
        "#'SABER PROGRAMAR' É O NOVO 'SABER INGLÊS'\n",
        "\n",
        "> A habilidade de programar, assim como o domínio do idioma inglês, tornou-se essencial em um mundo cada vez mais digital e tecnológico, abrindo portas para oportunidades educacionais e de carreira."
      ],
      "metadata": {
        "id": "jqduRNBwQyIz"
      }
    },
    {
      "cell_type": "markdown",
      "source": [
        "# O QUE É PYTHON?\n",
        "\n",
        "> Python é uma linguagem de programação de **alto nível** criada por Guido van Rossum em 1991. Sua simplicidade, legibilidade e vasta biblioteca padrão a tornam amplamente utilizada em desenvolvimento web, científico, automação, IA, e muito mais. É reconhecida por sua **fácil aprendizagem**, o que a torna uma escolha popular para **programadores iniciantes** e experientes.\n",
        "\n",
        "Documentação em português: https://docs.python.org/pt-br/3/library/"
      ],
      "metadata": {
        "id": "1X_uxGAvMDKZ"
      }
    },
    {
      "cell_type": "markdown",
      "source": [
        "# BAIXO NÍVEL vs. ALTO NÍVEL\n",
        "\n",
        "> Linguagens de **alto nível** são mais humanamente compreensíveis, facilitando a escrita de código, enquanto linguagens de baixo nível são mais próximas do código de máquina, mais complexas e envolvem detalhes de hardware. Códigos de alto nível tendem a ser mais concisos devido a abstrações, enquanto códigos de **baixo nível** requerem escrita de mais linhas para detalhes específicos.\n",
        "\n",
        "\n",
        "\n",
        "\n",
        "\n"
      ],
      "metadata": {
        "id": "DIdx8F19NJNi"
      }
    },
    {
      "cell_type": "markdown",
      "source": [
        "#LINGUÍSTICA DE CORPUS\n",
        "\n",
        "> A Linguística de Corpus é uma disciplina linguística que se baseia na análise de grandes coleções de textos (**corpora**) para identificar padrões linguísticos, tendências e regularidades na língua. Ela utiliza métodos computacionais para extrair informações e insights sobre a linguagem, auxiliando na compreensão de como as palavras e as estruturas linguísticas são usadas em contextos reais de comunicação. Essa abordagem é valiosa para estudos linguísticos, lexicografia, tradução, **processamento de linguagem natural** e muitas outras aplicações relacionadas à linguagem."
      ],
      "metadata": {
        "id": "2ZSDb-r3Ojcs"
      }
    },
    {
      "cell_type": "markdown",
      "source": [
        "# CORPUS EM PORTUGUÊS DO BRASIL\n",
        "\n",
        "> [Projeto AC/DC - Acesso a corpora/Disponibilização de corpora](https://www.linguateca.pt/acesso/corpus.php?corpus=CBRAS)\n",
        "\n",
        "> [Corpus Brasileiro](http://corpusbrasileiro.pucsp.br/cb/Inicial.html)\n",
        "\n",
        "> [Aelius Brazilian Portuguese POS-Tagger / Python, NLTK-based package for shallow parsing of Brazilian Portuguese](https://sourceforge.net/projects/aelius/)\n",
        "\n",
        "> [Sketch Engine | contains 600 ready-to-use corpora in 90+ languages, each having a size of up to 60 billion words to provide a truly representative sample of language.](https://www.sketchengine.eu/)\n",
        "\n",
        "> [Machado de Assis - Corpus e Catálogo](https://macc.fflch.usp.br/)"
      ],
      "metadata": {
        "id": "pIAesKcYLKcK"
      }
    },
    {
      "cell_type": "markdown",
      "source": [
        "# PYTHON NA LINGUÍSTICA DE CORPUS\n",
        "\n",
        "> Python é altamente vantajoso na Linguística de Corpus. Ele facilita a programação de análises de texto, criação de programas específicos e oferece ferramentas para coleta, organização e processamento de textos. Bibliotecas como NLTK e spaCy são essenciais. Além disso, Python é útil para análises estatísticas e até mesmo para aplicar aprendizado de máquina (machine learning) na exploração de corpora, contribuindo muito para estudos em Linguística de Corpus."
      ],
      "metadata": {
        "id": "d2zhd_vTOEKI"
      }
    },
    {
      "cell_type": "markdown",
      "source": [
        "#LINGUÍSTICA COMPUTACIONAL\n",
        "\n",
        "> A Linguística Computacional é um campo interdisciplinar que combina linguística e ciência da computação para desenvolver algoritmos, modelos e ferramentas computacionais para analisar, processar e entender a linguagem humana. Ela abrange áreas como processamento de linguagem natural, tradução automática, síntese de voz, análise de sentimentos e muito mais, com o objetivo de criar sistemas que interajam com a linguagem de maneira inteligente e automatizada."
      ],
      "metadata": {
        "id": "vqbzjUiJOomi"
      }
    },
    {
      "cell_type": "markdown",
      "source": [
        "# SUGESTÕES DE LIVROS\n",
        "![Python Para Linguística de Cprpus](https://images-na.ssl-images-amazon.com/images/I/41MwBwrqyuL._SX384_BO1,204,203,200_.jpg)\n",
        "![Para conhecer linguística computacional](https://images-na.ssl-images-amazon.com/images/I/4196l1AmoTL._SX346_BO1,204,203,200_.jpg)"
      ],
      "metadata": {
        "id": "43hRYc5MO6I1"
      }
    },
    {
      "cell_type": "markdown",
      "source": [
        "# LINGUAGEM NATURAL VS. LINGUAGEM DE PROGRAMAÇÃO\n",
        "As **linguagens naturais** e as **linguagens de programação** são sistemas de comunicação que compartilham semelhanças e diferenças.\n",
        "\n",
        "### Semelhanças\n",
        "\n",
        "* Ambos os sistemas são usados para comunicar ideias e informações. As línguas naturais são usadas para comunicar ideias e informações de forma oral ou escrita, enquanto as linguagens de programação são usadas para comunicar instruções a um computador.\n",
        "* Ambos os sistemas usam regras para estruturar a comunicação. As línguas naturais usam regras gramaticais, enquanto as linguagens de programação usam regras sintáticas e semânticas.\n",
        "* Ambos os sistemas são **dinâmicos e evoluem ao longo do tempo**. As línguas naturais evoluem à medida que são **usadas por pessoas diferentes**, enquanto as linguagens de programação evoluem à medida que são **usadas por programadores diferentes**.\n",
        "\n",
        "### Diferenças\n",
        "\n",
        "* O propósito dos sistemas é diferente. As línguas naturais são usadas para comunicação humana, enquanto as linguagens de programação são usadas para controlar o comportamento de um computador.\n",
        "* O nível de abstração dos sistemas é diferente. As línguas naturais são um sistema de comunicação de baixo nível que representa o mundo da forma como é percebido pelos humanos. As linguagens de programação são um sistema de comunicação de alto nível que representa o mundo da forma como é percebido pelos computadores.\n",
        "* O nível de formalização dos sistemas é diferente. As línguas naturais são um sistema de comunicação informal que permite **ambiguidade e interpretação**. As linguagens de programação são um sistema de comunicação formal que requer **precisão e clareza**."
      ],
      "metadata": {
        "id": "pshgLMS_SrVo"
      }
    },
    {
      "cell_type": "markdown",
      "source": [
        "#PLN (PROCESSAMENTO DE LINGUAGEM NATURAL)\n",
        "### NLP (NATURAL LANGUAGE PROCESSING)\n",
        "\n",
        "O Processamento de Linguagem Natural (PLN) é um ramo da inteligência artificial que visa dar ao computador a capacidade de processar linguagem humana. Esse campo de estudo é interdisciplinar e por esse motivo ele pode ser denominado por outros nomes, tais como: processamento de fala e linguagem, tecnologia da linguagem, linguística computacional e reconhecimento e síntese de fala. O objetivo é fazer com que os computadores possam executar tarefas envolvendo linguagem humana, possibilitando a comunicação humano-máquina, melhorando a comunicação entre humanos ou simplesmente fazendo processamento útil de texto e/ou fala."
      ],
      "metadata": {
        "id": "Hq0YAs9Zpw9b"
      }
    },
    {
      "cell_type": "markdown",
      "source": [
        "## PIRÂMIDE DO PLN\n",
        "\n",
        "> As abordagens linguísticas dentro do PLN podem ser divididas em tarefas ou níveis de conhecimento, representadas por uma pirâmide. O topo mostra as tarefas de maior dificuldade para **ensinar à máquina** e a base as de menor dificuldade, como pode ser visto na figura a seguir:\n",
        "\n",
        "![Relação entre Linguística e Processamento de Linguagem Natural](https://www.alura.com.br/artigos/assets/relacao-linguistica-processamento-de-linguagem-natural/imagem1.png)\n",
        "\n",
        "> [Relação entre Linguística e Processamento de Linguagem Natural](https://www.alura.com.br/artigos/relacao-linguistica-processamento-de-linguagem-natural)"
      ],
      "metadata": {
        "id": "iEL28rl2VlrU"
      }
    },
    {
      "cell_type": "markdown",
      "source": [
        "# GOOGLE COLAB\n",
        "\n",
        "> O Google Colab é uma plataforma de pesquisa online que permite aos usuários escrever e executar código Python no navegador. Oferece acesso gratuito a máquinas virtuais com GPUs, suporta notebooks Jupyter, possui bibliotecas pré-instaladas e facilita a colaboração em tempo real. É amplamente usado para desenvolvimento em aprendizado de máquina e análise de dados."
      ],
      "metadata": {
        "id": "yc5PHs9kQEty"
      }
    },
    {
      "cell_type": "markdown",
      "source": [
        "# HORA DE PROGRAMAR!"
      ],
      "metadata": {
        "id": "dBMjYvUneeH3"
      }
    },
    {
      "cell_type": "markdown",
      "source": [
        "# HELLO, WORLD!\n",
        "\n",
        "A expressão \"Hello, World\" tem uma origem interessante na programação de computadores. Ela foi popularizada por Brian Kernighan em 1972, quando ele escreveu um código em C em seu livro \"A Linguagem de Programação C\" (The C Programming Language). O código era o seguinte:\n",
        "<br><br>\n",
        "> int main () {<br>\n",
        "         printf (\"Hello World!\\\\n\");<br>\n",
        "         return 0;<br>\n",
        "}\n",
        "<br><br>\n",
        "\n",
        "Este código simplesmente imprime a frase \"Hello, World!\". Desde então, \"Hello, World\" tem sido amplamente utilizado como o primeiro programa que os novos programadores escrevem ao aprender uma nova linguagem de programação. É uma maneira simples de verificar se o ambiente de programação está configurado corretamente e se o código básico pode ser executado sem erros.\n",
        "\n",
        "Existe até uma lenda que diz que os desenvolvedores que não utilizam \"Hello, World\" terão muitos bugs pela frente com a linguagem escolhida. Portanto, \"Hello, World\" é mais do que apenas uma frase - é um rito de passagem no mundo da programação."
      ],
      "metadata": {
        "id": "PN9eACQFQzdq"
      }
    },
    {
      "cell_type": "markdown",
      "source": [
        "# OLARRR!!"
      ],
      "metadata": {
        "id": "asGcYJX9T-gh"
      }
    },
    {
      "cell_type": "code",
      "source": [
        "# Este programa imprime a mensagem \"Hello, world!\"\n",
        "\n",
        "print(\"Hello, world!\")"
      ],
      "metadata": {
        "colab": {
          "base_uri": "https://localhost:8080/"
        },
        "id": "HSg5gitsPlo1",
        "outputId": "b94523ec-228a-4003-d1bd-df1626918066"
      },
      "execution_count": null,
      "outputs": [
        {
          "output_type": "stream",
          "name": "stdout",
          "text": [
            "Hello, world!\n"
          ]
        }
      ]
    },
    {
      "cell_type": "markdown",
      "source": [
        "## Exercício 1: Escreva um programa que leia uma string e imprima o seu comprimento."
      ],
      "metadata": {
        "id": "eAPcO4RNQ6EL"
      }
    },
    {
      "cell_type": "code",
      "source": [
        "# Este programa lê uma string e imprime o seu comprimento\n",
        "\n",
        "string = input(\"Digite uma string: \")\n",
        "\n",
        "print(\"O comprimento da string é\", len(string))"
      ],
      "metadata": {
        "colab": {
          "base_uri": "https://localhost:8080/"
        },
        "id": "_hk5byqtPsh2",
        "outputId": "05b07588-e1ec-400d-9e00-4a9af14ec0e4"
      },
      "execution_count": null,
      "outputs": [
        {
          "output_type": "stream",
          "name": "stdout",
          "text": [
            "Digite uma string: aaaaaaaaaaaaaaaaaaaaaaaaaaaaaa\n",
            "O comprimento da string é 30\n"
          ]
        }
      ]
    },
    {
      "cell_type": "markdown",
      "source": [
        "## Exercício 2: Escreva um programa que leia uma string e imprima a primeira e a última letra da string."
      ],
      "metadata": {
        "id": "UVtTtXRnRl6P"
      }
    },
    {
      "cell_type": "code",
      "source": [
        "# Este programa lê uma string e imprime a primeira e a última letra da string\n",
        "\n",
        "string = input(\"Digite uma string: \")\n",
        "\n",
        "print(\"A primeira letra da string é\", string[0])\n",
        "print(\"A última letra da string é\", string[-1])"
      ],
      "metadata": {
        "colab": {
          "base_uri": "https://localhost:8080/"
        },
        "id": "jOnO4SZNP95D",
        "outputId": "78ddfe7f-864f-449a-80e4-96cdab478b25"
      },
      "execution_count": null,
      "outputs": [
        {
          "output_type": "stream",
          "name": "stdout",
          "text": [
            "Digite uma string: michelson\n",
            "A primeira letra da string é m\n",
            "A última letra da string é n\n"
          ]
        }
      ]
    },
    {
      "cell_type": "markdown",
      "source": [
        "## Exercício 3: Escreva um programa que leia uma string e imprima a string invertida."
      ],
      "metadata": {
        "id": "y4nIp3CpVnkv"
      }
    },
    {
      "cell_type": "code",
      "source": [
        "# Este programa lê uma string e imprime a string invertida\n",
        "\n",
        "string = input(\"Digite uma string: \")\n",
        "\n",
        "print(string[::-1])"
      ],
      "metadata": {
        "colab": {
          "base_uri": "https://localhost:8080/"
        },
        "id": "dDIM_iDKQGJv",
        "outputId": "22a3f403-cc91-4bca-debd-656340005ef7"
      },
      "execution_count": null,
      "outputs": [
        {
          "output_type": "stream",
          "name": "stdout",
          "text": [
            "Digite uma string: beatles\n",
            "seltaeb\n"
          ]
        }
      ]
    },
    {
      "cell_type": "markdown",
      "source": [
        "## Exercício 4: Escreva um programa que leia uma string e imprima a quantidade de ocorrências de uma letra na string."
      ],
      "metadata": {
        "id": "fHH6J5oAVusS"
      }
    },
    {
      "cell_type": "code",
      "source": [
        "# Este programa lê uma string e imprime a quantidade de ocorrências de uma letra na string\n",
        "\n",
        "string = input(\"Digite uma string: \")\n",
        "letra = input(\"Digite uma letra: \")\n",
        "\n",
        "ocorrencias = 0\n",
        "for caractere in string:\n",
        "    if caractere == letra:\n",
        "        ocorrencias += 1\n",
        "\n",
        "print(\"A letra\", letra, \"aparece\", ocorrencias, \"vezes na string.\")\n",
        "\n",
        "# ATENÇÃO!! PYTHON DIFERENCIA LETRA MAIÚSCULA E MINÚSCULA!!"
      ],
      "metadata": {
        "colab": {
          "base_uri": "https://localhost:8080/"
        },
        "id": "RD4lePKSQN_7",
        "outputId": "840e6d49-bedc-44b1-b71a-89e970860107"
      },
      "execution_count": null,
      "outputs": [
        {
          "output_type": "stream",
          "name": "stdout",
          "text": [
            "Digite uma string: aarao reis\n",
            "Digite uma letra: a\n",
            "A letra a aparece 3 vezes na string.\n"
          ]
        }
      ]
    },
    {
      "cell_type": "markdown",
      "source": [
        "## Exercício 5: Escreva um programa que leia uma string e imprima as palavras da string."
      ],
      "metadata": {
        "id": "3NzF1dmeWI3y"
      }
    },
    {
      "cell_type": "code",
      "source": [
        "# Este programa lê uma string e imprime as palavras da string\n",
        "\n",
        "string = input(\"Digite uma string: \")\n",
        "\n",
        "palavras = string.split()\n",
        "\n",
        "for palavra in palavras:\n",
        "    print(palavra)"
      ],
      "metadata": {
        "colab": {
          "base_uri": "https://localhost:8080/"
        },
        "id": "A_AwQt-GQYgY",
        "outputId": "91c6199a-729e-49f6-c0b4-4e29da5ee2e1"
      },
      "execution_count": null,
      "outputs": [
        {
          "output_type": "stream",
          "name": "stdout",
          "text": [
            "Digite uma string: aaaaaaaaaaaaaaaaaaaaaaaaaaaaa\n",
            "aaaaaaaaaaaaaaaaaaaaaaaaaaaaa\n"
          ]
        }
      ]
    },
    {
      "cell_type": "code",
      "source": [],
      "metadata": {
        "id": "HxP0279CXh1p"
      },
      "execution_count": null,
      "outputs": []
    },
    {
      "cell_type": "markdown",
      "source": [
        "# DESAFIO 1\n",
        "## Através do ChatGPT, Google, etc., descubra como printar uma string originalmente minúscula como MAIÚSCULA. Crie um campo de código abaixo para escrever a solução."
      ],
      "metadata": {
        "id": "ilJ39o7eXi1l"
      }
    },
    {
      "cell_type": "markdown",
      "source": [
        "# DESAFIO 2\n",
        "\n",
        "## Através do ChatGPT, Google, etc., descubra como printar uma string originalmente MAIÚSCULA como minúscula. Crie um campo de código abaixo para escrever a solução."
      ],
      "metadata": {
        "id": "La6RcIJpYMvM"
      }
    },
    {
      "cell_type": "markdown",
      "source": [
        "# 100% GRATUITO, 100% ONLINE\n",
        "\n",
        "## Excelente curso gratuito de Python da Data Science Academy, com 72 horas de conteúdo!!!\n",
        "\n",
        "https://www.datascienceacademy.com.br/cursosgratuitos"
      ],
      "metadata": {
        "id": "w44jW6GJokua"
      }
    },
    {
      "cell_type": "markdown",
      "source": [
        "#NLTK\n",
        "O NLTK (Natural Language Toolkit) é uma biblioteca Python amplamente utilizada para o processamento de linguagem natural. Ela fornece ferramentas e recursos para tarefas como tokenização, análise gramatical, extração de informações, análise de sentimentos e muito mais. O NLTK é fundamental para pesquisadores e desenvolvedores que trabalham com texto e linguagem, permitindo a implementação de soluções de processamento de linguagem natural de maneira eficaz e eficiente."
      ],
      "metadata": {
        "id": "1u1WlDcbPZT0"
      }
    },
    {
      "cell_type": "code",
      "execution_count": null,
      "metadata": {
        "colab": {
          "base_uri": "https://localhost:8080/"
        },
        "id": "z29G7ju5E0cU",
        "outputId": "cb052de5-196b-4ed9-9987-6e8aaf9c41eb"
      },
      "outputs": [
        {
          "output_type": "stream",
          "name": "stdout",
          "text": [
            "Requirement already satisfied: nltk in /usr/local/lib/python3.10/dist-packages (3.8.1)\n",
            "Requirement already satisfied: click in /usr/local/lib/python3.10/dist-packages (from nltk) (8.1.7)\n",
            "Requirement already satisfied: joblib in /usr/local/lib/python3.10/dist-packages (from nltk) (1.3.2)\n",
            "Requirement already satisfied: regex>=2021.8.3 in /usr/local/lib/python3.10/dist-packages (from nltk) (2023.6.3)\n",
            "Requirement already satisfied: tqdm in /usr/local/lib/python3.10/dist-packages (from nltk) (4.66.1)\n"
          ]
        }
      ],
      "source": [
        "# INSTALAÇÃO DA BIBLIOTECA\n",
        "!pip install nltk"
      ]
    },
    {
      "cell_type": "code",
      "source": [
        "# IMPORTAÇÃO - ISTO É, VAMOS 'CHAMAR' A(S) BIBLIOTECA(S) NECESSÁRIAS PARA A ANÁLISE\n",
        "import nltk\n",
        "import re # regular expressions / expressões regulares\n",
        "import string # pontuações existentes"
      ],
      "metadata": {
        "id": "9YDfY9XZcJVa"
      },
      "execution_count": null,
      "outputs": []
    },
    {
      "cell_type": "code",
      "source": [
        "print(string.punctuation)"
      ],
      "metadata": {
        "colab": {
          "base_uri": "https://localhost:8080/"
        },
        "id": "ST2n01H0nU7a",
        "outputId": "31d727ab-8463-47fd-b23b-a93abc1f0f4d"
      },
      "execution_count": null,
      "outputs": [
        {
          "output_type": "stream",
          "name": "stdout",
          "text": [
            "!\"#$%&'()*+,-./:;<=>?@[\\]^_`{|}~\n"
          ]
        }
      ]
    },
    {
      "cell_type": "markdown",
      "source": [
        "# STOPWORDS\n",
        "\n",
        "> Existem palavras na construção textual chamadas de stopwords, tais palavras, dentro de uma abordagem de NLP, são irrelevantes e sua remoção colaboram com a analise textual. Alguns exemplos de stopwords comuns no português são preposições (em, na, no, etc), artigos (a, o,os, etc), conjunções (e, mas, etc), entre outras. Quando analisadas pela máquina, essas palavras não possuem significância, podendo apenas atrapalhar os processos de aprendizado de máquina. Por esse motivo, geralmente, no pré-processamento removemos essas palavras. A biblioteca NLTK mais uma vez auxilia nesse processo, pois fornece as stopwords de uma língua."
      ],
      "metadata": {
        "id": "NhdHwpmgdVbd"
      }
    },
    {
      "cell_type": "code",
      "source": [
        "nltk.download('stopwords')\n",
        "stopwords = nltk.corpus.stopwords.words('portuguese')"
      ],
      "metadata": {
        "colab": {
          "base_uri": "https://localhost:8080/"
        },
        "id": "CbFgWRzJnQ75",
        "outputId": "08e244b3-a9a1-4481-9ac0-2ed0eb5ba3fd"
      },
      "execution_count": null,
      "outputs": [
        {
          "output_type": "stream",
          "name": "stderr",
          "text": [
            "[nltk_data] Downloading package stopwords to /root/nltk_data...\n",
            "[nltk_data]   Package stopwords is already up-to-date!\n"
          ]
        }
      ]
    },
    {
      "cell_type": "code",
      "source": [
        "print(stopwords)"
      ],
      "metadata": {
        "colab": {
          "base_uri": "https://localhost:8080/"
        },
        "id": "pd0I__DPd6gq",
        "outputId": "ebd8f5ff-dfee-457a-9955-e1c9b40a3f24"
      },
      "execution_count": null,
      "outputs": [
        {
          "output_type": "stream",
          "name": "stdout",
          "text": [
            "['a', 'à', 'ao', 'aos', 'aquela', 'aquelas', 'aquele', 'aqueles', 'aquilo', 'as', 'às', 'até', 'com', 'como', 'da', 'das', 'de', 'dela', 'delas', 'dele', 'deles', 'depois', 'do', 'dos', 'e', 'é', 'ela', 'elas', 'ele', 'eles', 'em', 'entre', 'era', 'eram', 'éramos', 'essa', 'essas', 'esse', 'esses', 'esta', 'está', 'estamos', 'estão', 'estar', 'estas', 'estava', 'estavam', 'estávamos', 'este', 'esteja', 'estejam', 'estejamos', 'estes', 'esteve', 'estive', 'estivemos', 'estiver', 'estivera', 'estiveram', 'estivéramos', 'estiverem', 'estivermos', 'estivesse', 'estivessem', 'estivéssemos', 'estou', 'eu', 'foi', 'fomos', 'for', 'fora', 'foram', 'fôramos', 'forem', 'formos', 'fosse', 'fossem', 'fôssemos', 'fui', 'há', 'haja', 'hajam', 'hajamos', 'hão', 'havemos', 'haver', 'hei', 'houve', 'houvemos', 'houver', 'houvera', 'houverá', 'houveram', 'houvéramos', 'houverão', 'houverei', 'houverem', 'houveremos', 'houveria', 'houveriam', 'houveríamos', 'houvermos', 'houvesse', 'houvessem', 'houvéssemos', 'isso', 'isto', 'já', 'lhe', 'lhes', 'mais', 'mas', 'me', 'mesmo', 'meu', 'meus', 'minha', 'minhas', 'muito', 'na', 'não', 'nas', 'nem', 'no', 'nos', 'nós', 'nossa', 'nossas', 'nosso', 'nossos', 'num', 'numa', 'o', 'os', 'ou', 'para', 'pela', 'pelas', 'pelo', 'pelos', 'por', 'qual', 'quando', 'que', 'quem', 'são', 'se', 'seja', 'sejam', 'sejamos', 'sem', 'ser', 'será', 'serão', 'serei', 'seremos', 'seria', 'seriam', 'seríamos', 'seu', 'seus', 'só', 'somos', 'sou', 'sua', 'suas', 'também', 'te', 'tem', 'tém', 'temos', 'tenha', 'tenham', 'tenhamos', 'tenho', 'terá', 'terão', 'terei', 'teremos', 'teria', 'teriam', 'teríamos', 'teu', 'teus', 'teve', 'tinha', 'tinham', 'tínhamos', 'tive', 'tivemos', 'tiver', 'tivera', 'tiveram', 'tivéramos', 'tiverem', 'tivermos', 'tivesse', 'tivessem', 'tivéssemos', 'tu', 'tua', 'tuas', 'um', 'uma', 'você', 'vocês', 'vos']\n"
          ]
        }
      ]
    },
    {
      "cell_type": "code",
      "source": [
        "len(stopwords)"
      ],
      "metadata": {
        "colab": {
          "base_uri": "https://localhost:8080/"
        },
        "id": "TNPPg80ChNV1",
        "outputId": "7ec864c0-df96-44bf-be87-2004092217d1"
      },
      "execution_count": null,
      "outputs": [
        {
          "output_type": "execute_result",
          "data": {
            "text/plain": [
              "207"
            ]
          },
          "metadata": {},
          "execution_count": 191
        }
      ]
    },
    {
      "cell_type": "code",
      "source": [
        "stopwords[:20]"
      ],
      "metadata": {
        "colab": {
          "base_uri": "https://localhost:8080/"
        },
        "id": "n1CNfQxGiWIf",
        "outputId": "7c09939f-8cf3-4908-d4cf-cde8111635d9"
      },
      "execution_count": null,
      "outputs": [
        {
          "output_type": "execute_result",
          "data": {
            "text/plain": [
              "['a',\n",
              " 'à',\n",
              " 'ao',\n",
              " 'aos',\n",
              " 'aquela',\n",
              " 'aquelas',\n",
              " 'aquele',\n",
              " 'aqueles',\n",
              " 'aquilo',\n",
              " 'as',\n",
              " 'às',\n",
              " 'até',\n",
              " 'com',\n",
              " 'como',\n",
              " 'da',\n",
              " 'das',\n",
              " 'de',\n",
              " 'dela',\n",
              " 'delas',\n",
              " 'dele']"
            ]
          },
          "metadata": {},
          "execution_count": 192
        }
      ]
    },
    {
      "cell_type": "markdown",
      "source": [
        "# PUNKT"
      ],
      "metadata": {
        "id": "AyshDknTfOzu"
      }
    },
    {
      "cell_type": "code",
      "source": [
        "nltk.download('punkt')"
      ],
      "metadata": {
        "colab": {
          "base_uri": "https://localhost:8080/"
        },
        "id": "0epXSvI5fKhv",
        "outputId": "dafd5abb-2ae7-4b64-b2c7-ce28ce22df76"
      },
      "execution_count": null,
      "outputs": [
        {
          "output_type": "stream",
          "name": "stderr",
          "text": [
            "[nltk_data] Downloading package punkt to /root/nltk_data...\n",
            "[nltk_data]   Package punkt is already up-to-date!\n"
          ]
        },
        {
          "output_type": "execute_result",
          "data": {
            "text/plain": [
              "True"
            ]
          },
          "metadata": {},
          "execution_count": 193
        }
      ]
    },
    {
      "cell_type": "markdown",
      "source": [
        "# Pré-processamento do texto com NLTK\n",
        "> Antes da análise, precisamos preparar nosso texto. Fazemos isso porque, para a máquina, algumas palavras ou estruturas dele não importam e não fazem diferença. A biblioteca NLTK oferece praticamente todas as ferramentas necessárias para um bom pré-processamento, vamos vê-las a seguir:"
      ],
      "metadata": {
        "id": "UNeKF_yYcxz3"
      }
    },
    {
      "cell_type": "code",
      "source": [
        "#PRÉ-PROCESSAMENTO 1 (EU QUE ESCREVI)\n",
        "\n",
        "#CONVERTER EM MINÚSCULAS TODO O TEXTO, POIS O ALGORITMO É CASE SENSITIVE (\"Homem\" É DIFERENTE DE \"homem\")\n",
        "#DESCONSIDERAR AS STOPWORDS (PALAVRAS SEM VALOR SEMÂNTICO PARA A MÁQUINA, ISTO É, ARTIGOS, CONJUNÇÕES: a, um, de, com, que...)\n",
        "#RETIRAR TODO TIPO DE PONTUAÇÃO\n",
        "#RETIRAR DÍGITOS\n",
        "def preprocessamento(texto):\n",
        "    texto_formatado = texto.lower()\n",
        "    tokens = []\n",
        "    for token in nltk.word_tokenize(texto_formatado):\n",
        "        tokens.append(token)\n",
        "\n",
        "    tokens = [palavra for palavra in tokens if palavra not in stopwords and palavra not in string.punctuation]\n",
        "    texto_formatado = ' '.join([str(elemento) for elemento in tokens if not elemento.isdigit()])\n",
        "\n",
        "    return texto_formatado"
      ],
      "metadata": {
        "id": "McboyMOphRQk"
      },
      "execution_count": null,
      "outputs": []
    },
    {
      "cell_type": "code",
      "source": [
        "#PRÉ-PROCESSAMENTO 2 (INTERNET)\n",
        "def pre_processamento(texto):\n",
        "\n",
        "    # seleciona apenas letras e coloca todas em minúsculo\n",
        "    letras_min =  re.findall(r'\\b[A-zÀ-úü]+\\b', texto.lower())\n",
        "\n",
        "    # remove stopwords\n",
        "    stopwords = nltk.corpus.stopwords.words('portuguese')\n",
        "    stop = set(stopwords)\n",
        "    sem_stopwords = [w for w in letras_min if w not in stop]\n",
        "\n",
        "    # juntando os tokens novamente em formato de texto\n",
        "    texto_limpo = \" \".join(sem_stopwords)\n",
        "\n",
        "    return texto_limpo"
      ],
      "metadata": {
        "id": "O4SF79g8vk1G"
      },
      "execution_count": null,
      "outputs": []
    },
    {
      "cell_type": "markdown",
      "source": [
        "# CORPUS MACHADO DE ASSIS"
      ],
      "metadata": {
        "id": "g64xNR4kbGat"
      }
    },
    {
      "cell_type": "code",
      "source": [
        "# CORPUS DE MACHADO\n",
        "nltk.download('machado') # é necessario baixar o corpus"
      ],
      "metadata": {
        "colab": {
          "base_uri": "https://localhost:8080/"
        },
        "id": "QBIiSJZ-o8Ey",
        "outputId": "66ec6b9f-186a-44e5-df5e-b3aec61c4e12"
      },
      "execution_count": null,
      "outputs": [
        {
          "output_type": "stream",
          "name": "stderr",
          "text": [
            "[nltk_data] Downloading package machado to /root/nltk_data...\n",
            "[nltk_data]   Package machado is already up-to-date!\n"
          ]
        },
        {
          "output_type": "execute_result",
          "data": {
            "text/plain": [
              "True"
            ]
          },
          "metadata": {},
          "execution_count": 196
        }
      ]
    },
    {
      "cell_type": "code",
      "source": [
        "# IDs DOS ARQUIVOS\n",
        "#nltk.corpus.machado.fileids()"
      ],
      "metadata": {
        "id": "dwNDRTEAjvDU"
      },
      "execution_count": null,
      "outputs": []
    },
    {
      "cell_type": "code",
      "source": [
        "# DESCRIÇÃO DOS CORPUS\n",
        "print(nltk.corpus.machado.readme())"
      ],
      "metadata": {
        "colab": {
          "base_uri": "https://localhost:8080/"
        },
        "id": "YaDcny4OjoKf",
        "outputId": "cf7167fd-72cb-45f2-a8d9-b49ee6d8a921"
      },
      "execution_count": null,
      "outputs": [
        {
          "output_type": "stream",
          "name": "stdout",
          "text": [
            "Machado de Assis -- Obra Completa\n",
            "\n",
            "http://machado.mec.gov.br/\n",
            "\n",
            "Public Domain\n",
            "\n",
            "Contents:\n",
            "\n",
            "Romance\n",
            "\n",
            "romance/marm01.txt: Ressurreição (1872)\n",
            "romance/marm02.txt: A Mão e a Luva (1874)\n",
            "romance/marm03.txt: Helena (1876)\n",
            "romance/marm04.txt: Iaiá Garcia (1878)\n",
            "romance/marm05.txt: Memórias Póstumas de Brás Cubas (1881)\n",
            "romance/marm06.txt: Casa Velha (1885)\n",
            "romance/marm07.txt: Quincas Borba (1891)\n",
            "romance/marm08.txt: Dom Casmurro (1899)\n",
            "romance/marm09.txt: Esaú e Jacó (1904)\n",
            "romance/marm10.txt: Memorial de Aires (1908)\n",
            "\n",
            "Poesia\n",
            "\n",
            "poesia/maps01.txt: Crisálidas (1864)\n",
            "poesia/maps02.txt: Falenas (1870)\n",
            "poesia/maps03.txt: Americanas (1875)\n",
            "poesia/maps04.txt: Gazeta de Holanda (1886-88)\n",
            "poesia/maps05.txt: Ocidentais (1901)\n",
            "poesia/maps06.txt: O Almada (1908)\n",
            "poesia/maps07.txt: Dispersas (1854-1939)\n",
            "\n",
            "Contos\n",
            "\n",
            "contos/macn001.txt: Contos Fluminenses (1870); Miss Dollar; Luís Soares; A mulher de preto; O segredo de Augusta; Confissões de uma viúva moça; Linha reta e linha curva; Frei Sim\n",
            "contos/macn002.txt: Histórias da meia-noite (1873); A parasita azul; As bodas de Luís Duarte; Ernesto de Tal; Aurora sem dia; O relógio de ouro; Ponto de vista\n",
            "contos/macn003.txt: Papéis avulsos (1882); O alienista; Teoria do medalhão; A chinela turca; Na arca; D. Benedita; O segredo do bonzo; O anel de Polícrates; O empréstimo; A sereníssima república; O espelho; Uma visita de Alcibíades; Verba testamentária\n",
            "contos/macn004.txt: Histórias sem data (1884); A igreja do Diabo; O lapso; Último capítulo; Cantiga de esponsais; Singular ocorrência; Galeria póstuma; Capítulo dos chapéus; Conto alexandrino; Rimas de Sapucaia!; Uma senhora; Anedota pecuniária; Fulano; A segunda vida; Noite de almirante; Manuscrito de um sacristão; Ex cathedra; A senhora do Galvão; As academias de Sião\n",
            "contos/macn005.txt: Várias histórias (1896); A cartomante; Entre santos; Uns braços; Um homem célebre; A desejada das gentes; A causa secreta; Trio em lá menor; Adão e Eva; O enfermeiro; O diplomático; Mariana; Conto de escola; Um apólogo; D. Paula; Viver!; O cônego ou Metafísica do estilo\n",
            "contos/macn006.txt: Páginas recolhidas (1899); O caso da vara; O dicionário; Um erradio; Eterno!; Missa do galo; Idéias de canário; Lágrimas de Xerxes; Papéis velhos\n",
            "contos/macn007.txt: Relíquias de Casa Velha (1906); Pai contra mãe; Maria Cora; Marcha fúnebre; Um capitão de voluntários; Suje-se gordo!; Umas férias; Evolução; Pílades e Orestes; Anedota do cabriolet\n",
            "\n",
            "Traducao\n",
            "\n",
            "traducao/matr01.txt: Suplício de uma mulher (1865)\n",
            "traducao/matr02.txt: Os trabalhadores do mar (1866)\n",
            "traducao/matr03.txt: Oliver Twist (1870)\n",
            "\n",
            "Teatro\n",
            "\n",
            "teatro/matt01.txt: As forcas caudinas (1956)\n",
            "teatro/matt02.txt: Hoje avental, amanhã luva (1860)\n",
            "teatro/matt03.txt: Desencantos (1861)\n",
            "teatro/matt04.txt: O caminho da porta / O protocolo (1863)\n",
            "teatro/matt05.txt: Quase ministro (1864)\n",
            "teatro/matt06.txt: Os deuses de casaca (1866)\n",
            "teatro/matt07.txt: O bote de rapé (1878)\n",
            "teatro/matt08.txt: Tu, só tu, puro amor (1880)\n",
            "teatro/matt09.txt: Não consultes médico (1899)\n",
            "teatro/matt10.txt: Lição de botânica (1906)\n",
            "\n",
            "Cronica\n",
            "\n",
            "cronica/macr01.txt: Comentários da semana (1861-1863)\n",
            "cronica/macr02.txt: Crônicas do Dr. Semana (1861-1864)\n",
            "cronica/macr03.txt: Crônicas - O futuro (1862-1863)\n",
            "cronica/macr04.txt: Ao acaso (1864-1865)\n",
            "cronica/macr05.txt: Cartas fluminenses (1867)\n",
            "cronica/macr06.txt: Badaladas (1871-1873)\n",
            "cronica/macr07.txt: História de quinze dias (1876-1877)\n",
            "cronica/macr08.txt: História dos trinta dias (1878)\n",
            "cronica/macr09.txt: Notas semanais (1878)\n",
            "cronica/macr10.txt: Balas de estalo (1883-1886)\n",
            "cronica/macr11.txt: Bons dias! (1888-1889)\n",
            "cronica/macr12.txt: A semana (1892-1800)\n",
            "cronica/macr13.txt: O jornal e o livro (1859)\n",
            "cronica/macr14.txt: A reforma pelo jornal (1859)\n",
            "cronica/macr15.txt: Aquarelas (1859)\n",
            "cronica/macr16.txt: O Visconde de Castilho (1875)\n",
            "cronica/macr17.txt: Cherchez la femme (1881)\n",
            "cronica/macr18.txt: José de Alencar (1883)\n",
            "cronica/macr19.txt: Joaquim Serra (1888)\n",
            "cronica/macr20.txt: O futuro dos argentinos (1888)\n",
            "cronica/macr21.txt: Entre 1892 e 1894 (1892-1894)\n",
            "cronica/macr22.txt: Henrique Chaves (1893)\n",
            "cronica/macr23.txt: Henrique Lombaerts (1897)\n",
            "cronica/macr24.txt: O velho Senado (1898)\n",
            "critica/mact01.txt: O Passado, o presente e o futuro da literatura (1858)\n",
            "critica/mact02.txt: Idéias sobre o teatro (1859)\n",
            "critica/mact03.txt: Revista dos teatros (1859)\n",
            "critica/mact04.txt: Revista Dramática (1860)\n",
            "critica/mact05.txt: A Crítica teatral. José de Alencar: Mãe (1860)\n",
            "critica/mact06.txt: Crítica variada - Diário do RJ (1862)\n",
            "critica/mact07.txt: Flores e Frutos, de Bruno Seabra (1862)\n",
            "critica/mact08.txt: Pareceres - Conservatório Dramático (1862-1864)\n",
            "critica/mact09.txt: Homem de Mello e B. Pinheiro  A Constituinte perante a História e Sombras e Luz (1863)\n",
            "critica/mact10.txt: Peregrinação pela província de S. Paulo , por A. E. Zaluar (1863)\n",
            "critica/mact11.txt: Revelações , de A. E. Zaluar (1863)\n",
            "critica/mact12.txt: Dois folhetins. Suplício de uma mulher (1865)\n",
            "critica/mact13.txt: O Ideal do crítico (1865)\n",
            "critica/mact14.txt: Álvares de Azevedo: Lira dos vinte anos (1866)\n",
            "critica/mact15.txt: Crítica teatral (1866)\n",
            "critica/mact16.txt: Fagundes Varela  Cantos e fantasias (1866)\n",
            "critica/mact17.txt: J .M. de Macedo: O culto do dever (1866)\n",
            "critica/mact18.txt: José de Alencar: Iracema (1866)\n",
            "critica/mact19.txt: Junqueira Freire: Inspirações do claustro (1866)\n",
            "critica/mact20.txt: Porto Alegre: Colombo (1866)\n",
            "critica/mact21.txt: Propósito (1866)\n",
            "critica/mact22.txt: Castro Alves (1868)\n",
            "critica/mact23.txt: Lúcio de Mendonça: Névoas matutinas (1872)\n",
            "critica/mact24.txt: Un cuento endemoniado e La mujer misteriosa , de Guilherme Malta (1872)\n",
            "critica/mact25.txt: Notícia da atual literatura brasileira: Instinto de nacionalidade (1873)\n",
            "critica/mact26.txt: Fagundes Varela (1875)\n",
            "critica/mact27.txt: Eça de Queirós: O primo Basílio (1878)\n",
            "critica/mact28.txt: Francisco de Castro: Harmonias errantes (1878)\n",
            "critica/mact29.txt: A Nova geração (1879)\n",
            "critica/mact30.txt: Carlos Jansen: Contos seletos das mil e uma noites (1882)\n",
            "critica/mact31.txt: Raimundo Correia: Sinfonias (1882)\n",
            "critica/mact32.txt: Alberto de Oliveira: Meridionais (1884)\n",
            "critica/mact33.txt: Enéias Galvão: Miragens (1885)\n",
            "critica/mact34.txt: L. L. Fernandes Pinheiro Júnior: Tipos e quadros (1886)\n",
            "critica/mact35.txt: José de Alencar: O Guarani (1887)\n",
            "critica/mact36.txt: Henriqueta Renan (1896)\n",
            "critica/mact37.txt: Discursos na Academia Brasileira de Letras (1897)\n",
            "critica/mact38.txt: Magalhães de Azeredo: Procelárias (1898)\n",
            "critica/mact39.txt: Cenas da vida amazônica , de José Veríssimo (1899)\n",
            "critica/mact40.txt: Garrett (1899)\n",
            "critica/mact41.txt: Eça de Queirós (1900)\n",
            "critica/mact42.txt: Eduardo Prado (1901)\n",
            "critica/mact43.txt: Magalhães de Azeredo e Mário de Alencar: Horas sagradas e Versos (1902)\n",
            "critica/mact44.txt: Oliveira Lima: Secretário d'el-rei (1904)\n",
            "critica/mact45.txt: Joaquim Nabuco: Pensées détachées et souvenirs (1906)\n",
            "\n",
            "Miscelanea\n",
            "\n",
            "miscelanea/mams01.txt: Os imortais (1859)\n",
            "miscelanea/mams02.txt: Queda que as mulheres têm para os tolos (1861)\n",
            "miscelanea/mams03.txt: Carta ao Sr. Bispo do RJ (1862)\n",
            "miscelanea/mams04.txt: Carta à redação da Imprensa Acadêmica (1864)\n",
            "miscelanea/mams05.txt: Pedro Luís (1884)\n",
            "miscelanea/mams06.txt: A morte de Francisco Otaviano (1889)\n",
            "miscelanea/mams07.txt: Secretaria de Agricultura (1890)\n",
            "miscelanea/mams08.txt: A Paixão de Jesus (1904)\n",
            "miscelanea/mams09.txt: Gonçalves Dias (1906)\n",
            "miscelanea/mams10.txt: A Estátua de José de Alencar (1906)\n",
            "\n"
          ]
        }
      ]
    },
    {
      "cell_type": "code",
      "source": [
        "# VAMOS ESCOLHER DOM CASMURRO\n",
        "dom_casmurro = nltk.corpus.machado.raw('romance/marm08.txt')"
      ],
      "metadata": {
        "id": "domII2Zujltg"
      },
      "execution_count": null,
      "outputs": []
    },
    {
      "cell_type": "code",
      "source": [
        "texto_original = re.sub(r'\\s+', ' ', dom_casmurro)"
      ],
      "metadata": {
        "id": "rO0W8RyUkUzi"
      },
      "execution_count": null,
      "outputs": []
    },
    {
      "cell_type": "code",
      "source": [
        "texto_formatado = preprocessamento(texto_original)"
      ],
      "metadata": {
        "id": "fqLEIj4dltIb"
      },
      "execution_count": null,
      "outputs": []
    },
    {
      "cell_type": "code",
      "source": [
        "frequencia_palavras = nltk.FreqDist(nltk.word_tokenize(texto_formatado))"
      ],
      "metadata": {
        "id": "cvnPaaXoqEW1"
      },
      "execution_count": null,
      "outputs": []
    },
    {
      "cell_type": "code",
      "source": [
        "frequencia_palavras #é um dicionário"
      ],
      "metadata": {
        "colab": {
          "base_uri": "https://localhost:8080/"
        },
        "id": "feegunC2qb5s",
        "outputId": "92fb7a6f-3b44-4730-d3ea-8b56935b0f27"
      },
      "execution_count": null,
      "outputs": [
        {
          "output_type": "execute_result",
          "data": {
            "text/plain": [
              "FreqDist({'\\x97': 839, '...': 346, 'capitu': 341, 'mãe': 229, 'dias': 192, 'tudo': 189, 'capítulo': 188, 'casa': 169, 'olhos': 163, 'mim': 162, ...})"
            ]
          },
          "metadata": {},
          "execution_count": 203
        }
      ]
    },
    {
      "cell_type": "code",
      "source": [
        "frequencia_palavras['capitu']"
      ],
      "metadata": {
        "colab": {
          "base_uri": "https://localhost:8080/"
        },
        "id": "xZoPfB1hqjHU",
        "outputId": "527ce8b9-e9bf-4b9f-ad7d-f807d8d50865"
      },
      "execution_count": null,
      "outputs": [
        {
          "output_type": "execute_result",
          "data": {
            "text/plain": [
              "341"
            ]
          },
          "metadata": {},
          "execution_count": 204
        }
      ]
    },
    {
      "cell_type": "code",
      "source": [
        "import nltk\n",
        "nltk.download('machado')\n",
        "from nltk.probability import FreqDist\n",
        "from nltk.tokenize import word_tokenize\n",
        "nltk.download('punkt')"
      ],
      "metadata": {
        "colab": {
          "base_uri": "https://localhost:8080/"
        },
        "id": "lXl3sS4VrhN0",
        "outputId": "20225ded-51be-4cbc-b61f-4a1f515076e1"
      },
      "execution_count": null,
      "outputs": [
        {
          "output_type": "stream",
          "name": "stderr",
          "text": [
            "[nltk_data] Downloading package machado to /root/nltk_data...\n",
            "[nltk_data]   Package machado is already up-to-date!\n",
            "[nltk_data] Downloading package punkt to /root/nltk_data...\n",
            "[nltk_data]   Package punkt is already up-to-date!\n"
          ]
        },
        {
          "output_type": "execute_result",
          "data": {
            "text/plain": [
              "True"
            ]
          },
          "metadata": {},
          "execution_count": 205
        }
      ]
    },
    {
      "cell_type": "code",
      "source": [
        "# SEM PRÉ-PROCESSAMENTO\n",
        "\n",
        "# corpus dom casmurro\n",
        "corpus_dom_casmurro = nltk.corpus.machado.raw('romance/marm08.txt')\n",
        "\n",
        "# sem pre processamento\n",
        "texto = corpus_dom_casmurro\n",
        "\n",
        "# tokenizando\n",
        "tokens = word_tokenize(texto)\n",
        "\n",
        "# contagem de frequencia\n",
        "fd = FreqDist(tokens)\n",
        "# print(\"20 palavras mais frequentes:\")\n",
        "print(fd.most_common(20))\n",
        "\n",
        "# plot\n",
        "import matplotlib.pyplot as plt\n",
        "plt.figure(figsize = (13, 8))\n",
        "fd.plot(30, title = \"Frequência de Palavras\")"
      ],
      "metadata": {
        "colab": {
          "base_uri": "https://localhost:8080/",
          "height": 598
        },
        "id": "fiiBoD8etaqk",
        "outputId": "46387a9e-8a8a-4d95-da62-a482a74f7ac2"
      },
      "execution_count": null,
      "outputs": [
        {
          "output_type": "stream",
          "name": "stdout",
          "text": [
            "[(',', 6875), ('.', 3354), ('que', 2619), ('a', 2254), ('e', 2062), ('de', 1931), ('o', 1508), ('não', 1214), (';', 1108), ('\\x97', 839), ('um', 709), ('é', 659), ('da', 618), ('os', 613), ('do', 588), ('para', 531), ('com', 523), ('se', 517), ('mas', 507), ('as', 492)]\n"
          ]
        },
        {
          "output_type": "stream",
          "name": "stderr",
          "text": [
            "/usr/local/lib/python3.10/dist-packages/IPython/core/pylabtools.py:151: UserWarning: Glyph 151 (\\x97) missing from current font.\n",
            "  fig.canvas.print_figure(bytes_io, **kw)\n"
          ]
        },
        {
          "output_type": "display_data",
          "data": {
            "text/plain": [
              "<Figure size 1300x800 with 1 Axes>"
            ],
            "image/png": "[encoded data removed]"
          },
          "metadata": {}
        },
        {
          "output_type": "execute_result",
          "data": {
            "text/plain": [
              "<Axes: title={'center': 'Frequência de Palavras'}, xlabel='Samples', ylabel='Counts'>"
            ]
          },
          "metadata": {},
          "execution_count": 206
        }
      ]
    },
    {
      "cell_type": "code",
      "source": [
        "# COM PRÉ-PROCESSAMENTO 1\n",
        "\n",
        "# corpus dom casmurro\n",
        "corpus_dom_casmurro = nltk.corpus.machado.raw('romance/marm08.txt')\n",
        "\n",
        "# com pre processamento\n",
        "texto = preprocessamento(corpus_dom_casmurro)\n",
        "\n",
        "# tokenizando\n",
        "tokens = word_tokenize(texto)\n",
        "\n",
        "# contagem de frequencia\n",
        "fd = FreqDist(tokens)\n",
        "print(\"20 palavras mais frequentes:\")\n",
        "print(fd.most_common(20))\n",
        "\n",
        "# plot\n",
        "import matplotlib.pyplot as plt\n",
        "plt.figure(figsize = (13, 8))\n",
        "fd.plot(30, title = \"Frequência de Palavras\")"
      ],
      "metadata": {
        "colab": {
          "base_uri": "https://localhost:8080/",
          "height": 591
        },
        "id": "QLb0GhTWtb-p",
        "outputId": "122c5d0c-ec82-411c-c937-8255394bab6d"
      },
      "execution_count": null,
      "outputs": [
        {
          "output_type": "stream",
          "name": "stdout",
          "text": [
            "20 palavras mais frequentes:\n",
            "[('\\x97', 839), ('...', 346), ('capitu', 341), ('mãe', 229), ('dias', 192), ('tudo', 189), ('capítulo', 188), ('casa', 169), ('olhos', 163), ('mim', 162), ('josé', 159), ('assim', 157), ('vez', 147), ('agora', 145), ('ainda', 141), ('outra', 138), ('nada', 135), ('disse', 123), ('tão', 122), ('tempo', 120)]\n"
          ]
        },
        {
          "output_type": "display_data",
          "data": {
            "text/plain": [
              "<Figure size 1300x800 with 1 Axes>"
            ],
            "image/png": "[encoded data removed]"
          },
          "metadata": {}
        },
        {
          "output_type": "execute_result",
          "data": {
            "text/plain": [
              "<Axes: title={'center': 'Frequência de Palavras'}, xlabel='Samples', ylabel='Counts'>"
            ]
          },
          "metadata": {},
          "execution_count": 207
        }
      ]
    },
    {
      "cell_type": "code",
      "source": [
        "# COM PRÉ-PROCESSAMENTO 2\n",
        "\n",
        "# corpus dom casmurro\n",
        "corpus_dom_casmurro = nltk.corpus.machado.raw('romance/marm08.txt')\n",
        "\n",
        "# com pre processamento\n",
        "texto = pre_processamento(corpus_dom_casmurro)\n",
        "\n",
        "# tokenizando\n",
        "tokens = word_tokenize(texto)\n",
        "\n",
        "# contagem de frequencia\n",
        "fd = FreqDist(tokens)\n",
        "print(\"20 palavras mais frequentes:\")\n",
        "print(fd.most_common(20))\n",
        "\n",
        "# plot\n",
        "import matplotlib.pyplot as plt\n",
        "plt.figure(figsize = (13, 8))\n",
        "fd.plot(30, title = \"Frequência de Palavras\")"
      ],
      "metadata": {
        "colab": {
          "base_uri": "https://localhost:8080/",
          "height": 591
        },
        "id": "AfDeZTd91H3c",
        "outputId": "31e6077d-8713-4ecb-adf6-189dc5ceb912"
      },
      "execution_count": null,
      "outputs": [
        {
          "output_type": "stream",
          "name": "stdout",
          "text": [
            "20 palavras mais frequentes:\n",
            "[('capitu', 341), ('mãe', 229), ('dias', 192), ('tudo', 189), ('capítulo', 188), ('disse', 184), ('casa', 170), ('olhos', 164), ('mim', 162), ('josé', 160), ('assim', 158), ('vez', 147), ('agora', 146), ('ainda', 141), ('outra', 138), ('nada', 135), ('lo', 127), ('tão', 122), ('tempo', 120), ('padre', 119)]\n"
          ]
        },
        {
          "output_type": "display_data",
          "data": {
            "text/plain": [
              "<Figure size 1300x800 with 1 Axes>"
            ],
            "image/png": "[encoded data removed]"
          },
          "metadata": {}
        },
        {
          "output_type": "execute_result",
          "data": {
            "text/plain": [
              "<Axes: title={'center': 'Frequência de Palavras'}, xlabel='Samples', ylabel='Counts'>"
            ]
          },
          "metadata": {},
          "execution_count": 208
        }
      ]
    },
    {
      "cell_type": "code",
      "source": [
        "texto1 = nltk.corpus.machado.words('romance/marm08.txt')"
      ],
      "metadata": {
        "id": "M0fzmxZSlPhd"
      },
      "execution_count": null,
      "outputs": []
    },
    {
      "cell_type": "code",
      "source": [
        "#TOTAL DE PALAVRAS\n",
        "len(texto1)"
      ],
      "metadata": {
        "colab": {
          "base_uri": "https://localhost:8080/"
        },
        "id": "WmnhbS8mljNn",
        "outputId": "3df49ef7-1970-4866-efa6-3fd336ceb3d5"
      },
      "execution_count": null,
      "outputs": [
        {
          "output_type": "execute_result",
          "data": {
            "text/plain": [
              "82088"
            ]
          },
          "metadata": {},
          "execution_count": 210
        }
      ]
    },
    {
      "cell_type": "code",
      "source": [
        "len(set(texto1))"
      ],
      "metadata": {
        "colab": {
          "base_uri": "https://localhost:8080/"
        },
        "id": "TsC2Mf0GmKos",
        "outputId": "e1236fbe-4553-4223-d03d-877d8ff66711"
      },
      "execution_count": null,
      "outputs": [
        {
          "output_type": "execute_result",
          "data": {
            "text/plain": [
              "9717"
            ]
          },
          "metadata": {},
          "execution_count": 211
        }
      ]
    },
    {
      "cell_type": "markdown",
      "source": [
        "# CONCORDÂNCIA\n",
        "\n",
        "> Concordância\n",
        "Essa função serve para nos mostrar em quais contextos determinada palavra aparece, ela nos retorna o contexto que cerca o argumento. Isso é feito colando a palavra no centro das frases onde ela tende a aparecer através da função .concordance, que por sua vez recebe a palavra como argumento. Aqui vamos ver a palavra “capitu” em seus contextos:"
      ],
      "metadata": {
        "id": "Z9w6nkxQro3z"
      }
    },
    {
      "cell_type": "code",
      "source": [
        "# CONCORDÂNCIA\n",
        "dom_casmurro = nltk.Text(nltk.corpus.machado.words('romance/marm08.txt'))"
      ],
      "metadata": {
        "id": "L5pGK8oUmbQE"
      },
      "execution_count": null,
      "outputs": []
    },
    {
      "cell_type": "code",
      "source": [
        "dom_casmurro.concordance('capitu')"
      ],
      "metadata": {
        "colab": {
          "base_uri": "https://localhost:8080/"
        },
        "id": "jRAoOJbzr7Av",
        "outputId": "8014fe22-5b82-4531-f7a6-4c885f899166"
      },
      "execution_count": null,
      "outputs": [
        {
          "output_type": "stream",
          "name": "stdout",
          "text": [
            "Displaying 25 of 341 matches:\n",
            "de ; Bentinho mal tem quinze anos . Capitu fez quatorze à semana passada ; são\n",
            "incadeira . Arranjávamos um altar , Capitu e eu . Ela servia de sacristão , e \n",
            "ma opinião . Com que então eu amava Capitu , e Capitu a mim ? Realmente , anda\n",
            ". Com que então eu amava Capitu , e Capitu a mim ? Realmente , andava cosido à\n",
            "ssas conversações era a de sempre . Capitu chamava - me às vezes bonito , moce\n",
            "ito mais lindos que os meus . Então Capitu abanava a cabeça com uma grande exp\n",
            "lgum gesto . Também eu os contava . Capitu um dia notou a diferença , dizendo \n",
            "recente acordar com o pensamento em Capitu , e escutá - la de memória , e estr\n",
            " demais Virtudes eternas . Eu amava Capitu ! Capitu amava - me ! E as minhas p\n",
            "irtudes eternas . Eu amava Capitu ! Capitu amava - me ! E as minhas pernas and\n",
            " por ser a primeira . CAPÍTULO XIII CAPITU De repente , ouvi bradar uma voz de\n",
            "uma voz de dentro da casa ao pé :  Capitu ! E no quintal :  Mamãe ! E outra \n",
            "ndada rasgar por minha mãe , quando Capitu e eu éramos pequenos . A porta não \n",
            "itas mesuras . Quando as bonecas de Capitu adoeciam , o médico era eu . Entrav\n",
            ". ' É surda , coitada !', exclamava Capitu . Então eu coçava o queixo , como o\n",
            " terapêutica habitual do médico .  Capitu !  Mamãe !  Deixa de estar esbura\n",
            "rço , empurrei a porta , e entrei . Capitu estava ao pé do muro fronteiro , vo\n",
            "ê - los de perto , e dei um passo . Capitu agarrou - me , mas , ou por temer q\n",
            "O CAPITOLINA Voltei - me para ela ; Capitu tinha os olhos no chão . Ergueu - o\n",
            "estão jogando o siso ? Era o pai de Capitu , que estava à porta dos fundos , a\n",
            "depressa , e ficamos atrapalhados . Capitu foi ao muro , e , com o prego , dis\n",
            "apagou os nossos nomes escritos .  Capitu !  Papai !  Não me estragues o re\n",
            "Não me estragues o reboco do muro . Capitu riscava sobre o riscado , para apag\n",
            "pé de sabugueiro que ficava perto ; Capitu respondeu por ambos .  Estávamos ,\n",
            "- lo , para legitimar a resposta de Capitu . Esta , cansada de esperar , desvi\n"
          ]
        }
      ]
    },
    {
      "cell_type": "code",
      "source": [
        "dom_casmurro.concordance('olhos')"
      ],
      "metadata": {
        "colab": {
          "base_uri": "https://localhost:8080/"
        },
        "id": "cHA2-8RQRpR7",
        "outputId": "0129067f-0489-49f0-b7e5-c92a2c038673"
      },
      "execution_count": null,
      "outputs": [
        {
          "output_type": "stream",
          "name": "stdout",
          "text": [
            "Displaying 25 of 164 matches:\n",
            ", como eu estava cansado , fechei os olhos três ou quatro vezes ; tanto bastou \n",
            " ponto as bochechas , os dentes , os olhos , toda a cara , toda a pessoa , todo\n",
            "sado , tinha a respiração curta e os olhos dorminhocos . Uma das minhas recorda\n",
            "eleira grande ; o retrato mostra uns olhos redondos , que me acompanham para to\n",
            "ria e Pandora me aborrecem , ergo os olhos para eles , e esqueço os bilhetes br\n",
            " reparasse no padre , não tirasse os olhos do padre . Em casa , brincava de mis\n",
            ", mas não achei língua . Todo eu era olhos e coração , um coração que desta vez\n",
            " pela boca fora . Não podia tirar os olhos daquela criatura de quatorze anos , \n",
            "esciam - lhe pelas costas . Morena , olhos claros e grandes , nariz reto e comp\n",
            "ltei - me para ela ; Capitu tinha os olhos no chão . Ergueu - os logo , devagar\n",
            "ir de cansadas ou de esquecidas . Os olhos fitavam - se e desfitavam - se , e d\n",
            " , mas uma só criatura seráfica . Os olhos continuaram a dizer coisas infinitas\n",
            "quer ver ? E séria , fitou em mim os olhos , convidando - me ao jogo . O susto \n",
            "a filha , a mesma cabeça , os mesmos olhos claros , a mulher é que lhe disse qu\n",
            "Seja homem , ande . Pádua enxugou os olhos e foi para casa , onde viveu prostra\n",
            "em cortejar a vizinhança , risonho , olhos no ar , antes mesmo da administração\n",
            "as , falávamos do seminário . Com os olhos em mim , Capitu queria saber que not\n",
            "cípio , não disse nada . Recolheu os olhos , meteu - os em si e deixou - se est\n",
            "m - se as ocasiões pelo apertado dos olhos . Pediu - me algumas circunstâncias \n",
            "ropa . Dito isto , espreitou - me os olhos , mas creio que eles não lhe dissera\n",
            "OSSOS E MIL AVE - MARIAS Levantei os olhos ao céu , que começava a embruscar - \n",
            "nária , magra e pálida , boca fina e olhos curiosos . Vivia conosco por favor d\n",
            "isso na cama . Só então senti que os olhos de prima Justina , quando eu falava \n",
            "e todo má . Capitu , apesar daqueles olhos que o Diabo lhe deu ... Você já repa\n",
            "iabo lhe deu ... Você já reparou nos olhos dela ? São assim de cigana oblíqua e\n"
          ]
        }
      ]
    },
    {
      "cell_type": "markdown",
      "source": [
        "# BIGRAMAS\n",
        "\n",
        "> Encontrar bigramas é uma parte importante para a análise de um texto. Mas primeiro, o que são bigramas? São palavras no texto que possuem um sentido único estando juntas, podendo até ocorrer separadas, mas com um sentido quando juntas. Por exemplo, nomes compostos (João Alfredo, Maria Júlia) ou nomes de cidades (São Paulo, Rio de Janeiro, Nova Iorque) são exemplos claros de bigramas, essas palavras podem ocorrer sozinhas, mas ocorrendo juntas possuem um significado.\n",
        "\n",
        "Para encontrar os bigramas de um texto com NLTK, basta chamar a função ‘collocations’:"
      ],
      "metadata": {
        "id": "dugce6FZtM5O"
      }
    },
    {
      "cell_type": "code",
      "source": [
        "# BIGRAMAS\n",
        "\n",
        "dom_casmurro.collocations()"
      ],
      "metadata": {
        "colab": {
          "base_uri": "https://localhost:8080/"
        },
        "id": "t3AQ_VfLtKcV",
        "outputId": "e490c399-8726-4ffa-c021-5cac6a0890ff"
      },
      "execution_count": null,
      "outputs": [
        {
          "output_type": "stream",
          "name": "stdout",
          "text": [
            "José Dias; minha mãe; prima Justina; tio Cosme; Minha mãe; que não;\n",
            "Padre Cabral; Tio Cosme; Prima Justina; outra vez; alguma coisa; pode\n",
            "ser; uma vez; outra coisa; muita vez; para mim; não sei; alguns\n",
            "instantes; dia seguinte; Engenho Novo\n"
          ]
        }
      ]
    },
    {
      "cell_type": "markdown",
      "source": [
        "# ENELVO\n",
        "\n",
        "> A biblioteca Enelvo é muito importante para diversas tarefas de Processamento de Linguagem Natural em português porque possui a capacidade de normalizar textos, ou seja, corrige abreviações, gírias, erros ortográficos, capitaliza letras no começo das frases, de nomes próprios e acrônimos. Ela também possui uma função própria para remover pontuações e emojis."
      ],
      "metadata": {
        "id": "37_4GG2Sir7u"
      }
    },
    {
      "cell_type": "code",
      "source": [
        "!pip install enelvo"
      ],
      "metadata": {
        "colab": {
          "base_uri": "https://localhost:8080/"
        },
        "id": "3tM4D-naiv9C",
        "outputId": "faeb8e44-8e47-45ed-cb66-85819e998a1d"
      },
      "execution_count": null,
      "outputs": [
        {
          "output_type": "stream",
          "name": "stdout",
          "text": [
            "Requirement already satisfied: enelvo in /usr/local/lib/python3.10/dist-packages (0.15)\n",
            "Requirement already satisfied: editdistance>=0.6.0 in /usr/local/lib/python3.10/dist-packages (from enelvo) (0.6.2)\n",
            "Requirement already satisfied: emoji==2.2.0 in /usr/local/lib/python3.10/dist-packages (from enelvo) (2.2.0)\n",
            "Requirement already satisfied: gensim>=4.1.2 in /usr/local/lib/python3.10/dist-packages (from enelvo) (4.3.2)\n",
            "Requirement already satisfied: numpy>=1.19.5 in /usr/local/lib/python3.10/dist-packages (from enelvo) (1.23.5)\n",
            "Requirement already satisfied: tabulate>=0.8.9 in /usr/local/lib/python3.10/dist-packages (from enelvo) (0.9.0)\n",
            "Requirement already satisfied: scipy>=1.7.0 in /usr/local/lib/python3.10/dist-packages (from gensim>=4.1.2->enelvo) (1.11.3)\n",
            "Requirement already satisfied: smart-open>=1.8.1 in /usr/local/lib/python3.10/dist-packages (from gensim>=4.1.2->enelvo) (6.4.0)\n"
          ]
        }
      ]
    },
    {
      "cell_type": "code",
      "source": [
        "from enelvo.normaliser import Normaliser\n",
        "\n",
        "norm = Normaliser(tokenizer='readable')"
      ],
      "metadata": {
        "id": "uuayBIFii3-j"
      },
      "execution_count": null,
      "outputs": []
    },
    {
      "cell_type": "code",
      "source": [
        "msg = \"Até hj vc n me respondeu. Oq houve?!\"\n",
        "resposta = norm.normalise(msg)\n",
        "print(resposta)"
      ],
      "metadata": {
        "colab": {
          "base_uri": "https://localhost:8080/"
        },
        "id": "rXka2MxKjNnP",
        "outputId": "f5d100b0-d900-4ece-8ef3-8a9c3bfd1522"
      },
      "execution_count": null,
      "outputs": [
        {
          "output_type": "stream",
          "name": "stdout",
          "text": [
            "até hoje você não me respondeu . o que houve ? !\n"
          ]
        }
      ]
    },
    {
      "cell_type": "code",
      "source": [
        "# STEMIZAÇÃO VS. LEMMATIZAÇÃO"
      ],
      "metadata": {
        "id": "mwPwfeEXLfeK"
      },
      "execution_count": null,
      "outputs": []
    },
    {
      "cell_type": "markdown",
      "source": [
        "# STEMIZAÇÃO VS. LEMMATIZAÇÃO"
      ],
      "metadata": {
        "id": "E38UNvYRLiQZ"
      }
    },
    {
      "cell_type": "markdown",
      "source": [
        "## STEMIZAÇÃO\n",
        "\n",
        "> Na stemming vamos analisar cada palavra individualmente e reduzi-la à sua raiz ou, como é chamado na técnica, ao seu stem. Uma característica dessa técnica é que ela pode reduzir a palavra a uma outra gramaticalmente incorreta, porém ainda com valor para nossa análise. Os algoritmos de stemming têm um conjunto de regras para decidir como fazer os cortes."
      ],
      "metadata": {
        "id": "w2X9wZDyLw02"
      }
    },
    {
      "cell_type": "code",
      "source": [
        "import pandas as pd\n",
        "df_palavras = pd.DataFrame(['avião', 'aviões', 'carreira', 'carreiras'], columns=['Original'])\n",
        "df_palavras"
      ],
      "metadata": {
        "colab": {
          "base_uri": "https://localhost:8080/",
          "height": 174
        },
        "id": "n29Xi4-OM3Tv",
        "outputId": "5d2bdf72-242f-4bd4-f43c-399483b1beb5"
      },
      "execution_count": null,
      "outputs": [
        {
          "output_type": "execute_result",
          "data": {
            "text/plain": [
              "    Original\n",
              "0      avião\n",
              "1     aviões\n",
              "2   carreira\n",
              "3  carreiras"
            ],
            "text/html": [
              "\n",
              "  <div id=\"df-2e4c1f95-a7d3-4f36-b6b9-e888b7db05e2\" class=\"colab-df-container\">\n",
              "    <div>\n",
              "<style scoped>\n",
              "    .dataframe tbody tr th:only-of-type {\n",
              "        vertical-align: middle;\n",
              "    }\n",
              "\n",
              "    .dataframe tbody tr th {\n",
              "        vertical-align: top;\n",
              "    }\n",
              "\n",
              "    .dataframe thead th {\n",
              "        text-align: right;\n",
              "    }\n",
              "</style>\n",
              "<table border=\"1\" class=\"dataframe\">\n",
              "  <thead>\n",
              "    <tr style=\"text-align: right;\">\n",
              "      <th></th>\n",
              "      <th>Original</th>\n",
              "    </tr>\n",
              "  </thead>\n",
              "  <tbody>\n",
              "    <tr>\n",
              "      <th>0</th>\n",
              "      <td>avião</td>\n",
              "    </tr>\n",
              "    <tr>\n",
              "      <th>1</th>\n",
              "      <td>aviões</td>\n",
              "    </tr>\n",
              "    <tr>\n",
              "      <th>2</th>\n",
              "      <td>carreira</td>\n",
              "    </tr>\n",
              "    <tr>\n",
              "      <th>3</th>\n",
              "      <td>carreiras</td>\n",
              "    </tr>\n",
              "  </tbody>\n",
              "</table>\n",
              "</div>\n",
              "    <div class=\"colab-df-buttons\">\n",
              "\n",
              "  <div class=\"colab-df-container\">\n",
              "    <button class=\"colab-df-convert\" onclick=\"convertToInteractive('df-2e4c1f95-a7d3-4f36-b6b9-e888b7db05e2')\"\n",
              "            title=\"Convert this dataframe to an interactive table.\"\n",
              "            style=\"display:none;\">\n",
              "\n",
              "  <svg xmlns=\"http://www.w3.org/2000/svg\" height=\"24px\" viewBox=\"0 -960 960 960\">\n",
              "    <path d=\"M120-120v-720h720v720H120Zm60-500h600v-160H180v160Zm220 220h160v-160H400v160Zm0 220h160v-160H400v160ZM180-400h160v-160H180v160Zm440 0h160v-160H620v160ZM180-180h160v-160H180v160Zm440 0h160v-160H620v160Z\"/>\n",
              "  </svg>\n",
              "    </button>\n",
              "\n",
              "  <style>\n",
              "    .colab-df-container {\n",
              "      display:flex;\n",
              "      gap: 12px;\n",
              "    }\n",
              "\n",
              "    .colab-df-convert {\n",
              "      background-color: #E8F0FE;\n",
              "      border: none;\n",
              "      border-radius: 50%;\n",
              "      cursor: pointer;\n",
              "      display: none;\n",
              "      fill: #1967D2;\n",
              "      height: 32px;\n",
              "      padding: 0 0 0 0;\n",
              "      width: 32px;\n",
              "    }\n",
              "\n",
              "    .colab-df-convert:hover {\n",
              "      background-color: #E2EBFA;\n",
              "      box-shadow: 0px 1px 2px rgba(60, 64, 67, 0.3), 0px 1px 3px 1px rgba(60, 64, 67, 0.15);\n",
              "      fill: #174EA6;\n",
              "    }\n",
              "\n",
              "    .colab-df-buttons div {\n",
              "      margin-bottom: 4px;\n",
              "    }\n",
              "\n",
              "    [theme=dark] .colab-df-convert {\n",
              "      background-color: #3B4455;\n",
              "      fill: #D2E3FC;\n",
              "    }\n",
              "\n",
              "    [theme=dark] .colab-df-convert:hover {\n",
              "      background-color: #434B5C;\n",
              "      box-shadow: 0px 1px 3px 1px rgba(0, 0, 0, 0.15);\n",
              "      filter: drop-shadow(0px 1px 2px rgba(0, 0, 0, 0.3));\n",
              "      fill: #FFFFFF;\n",
              "    }\n",
              "  </style>\n",
              "\n",
              "    <script>\n",
              "      const buttonEl =\n",
              "        document.querySelector('#df-2e4c1f95-a7d3-4f36-b6b9-e888b7db05e2 button.colab-df-convert');\n",
              "      buttonEl.style.display =\n",
              "        google.colab.kernel.accessAllowed ? 'block' : 'none';\n",
              "\n",
              "      async function convertToInteractive(key) {\n",
              "        const element = document.querySelector('#df-2e4c1f95-a7d3-4f36-b6b9-e888b7db05e2');\n",
              "        const dataTable =\n",
              "          await google.colab.kernel.invokeFunction('convertToInteractive',\n",
              "                                                    [key], {});\n",
              "        if (!dataTable) return;\n",
              "\n",
              "        const docLinkHtml = 'Like what you see? Visit the ' +\n",
              "          '<a target=\"_blank\" href=https://colab.research.google.com/notebooks/data_table.ipynb>data table notebook</a>'\n",
              "          + ' to learn more about interactive tables.';\n",
              "        element.innerHTML = '';\n",
              "        dataTable['output_type'] = 'display_data';\n",
              "        await google.colab.output.renderOutput(dataTable, element);\n",
              "        const docLink = document.createElement('div');\n",
              "        docLink.innerHTML = docLinkHtml;\n",
              "        element.appendChild(docLink);\n",
              "      }\n",
              "    </script>\n",
              "  </div>\n",
              "\n",
              "\n",
              "<div id=\"df-eceb9384-31e2-42ac-9969-ebe6aaca00db\">\n",
              "  <button class=\"colab-df-quickchart\" onclick=\"quickchart('df-eceb9384-31e2-42ac-9969-ebe6aaca00db')\"\n",
              "            title=\"Suggest charts.\"\n",
              "            style=\"display:none;\">\n",
              "\n",
              "<svg xmlns=\"http://www.w3.org/2000/svg\" height=\"24px\"viewBox=\"0 0 24 24\"\n",
              "     width=\"24px\">\n",
              "    <g>\n",
              "        <path d=\"M19 3H5c-1.1 0-2 .9-2 2v14c0 1.1.9 2 2 2h14c1.1 0 2-.9 2-2V5c0-1.1-.9-2-2-2zM9 17H7v-7h2v7zm4 0h-2V7h2v10zm4 0h-2v-4h2v4z\"/>\n",
              "    </g>\n",
              "</svg>\n",
              "  </button>\n",
              "\n",
              "<style>\n",
              "  .colab-df-quickchart {\n",
              "      --bg-color: #E8F0FE;\n",
              "      --fill-color: #1967D2;\n",
              "      --hover-bg-color: #E2EBFA;\n",
              "      --hover-fill-color: #174EA6;\n",
              "      --disabled-fill-color: #AAA;\n",
              "      --disabled-bg-color: #DDD;\n",
              "  }\n",
              "\n",
              "  [theme=dark] .colab-df-quickchart {\n",
              "      --bg-color: #3B4455;\n",
              "      --fill-color: #D2E3FC;\n",
              "      --hover-bg-color: #434B5C;\n",
              "      --hover-fill-color: #FFFFFF;\n",
              "      --disabled-bg-color: #3B4455;\n",
              "      --disabled-fill-color: #666;\n",
              "  }\n",
              "\n",
              "  .colab-df-quickchart {\n",
              "    background-color: var(--bg-color);\n",
              "    border: none;\n",
              "    border-radius: 50%;\n",
              "    cursor: pointer;\n",
              "    display: none;\n",
              "    fill: var(--fill-color);\n",
              "    height: 32px;\n",
              "    padding: 0;\n",
              "    width: 32px;\n",
              "  }\n",
              "\n",
              "  .colab-df-quickchart:hover {\n",
              "    background-color: var(--hover-bg-color);\n",
              "    box-shadow: 0 1px 2px rgba(60, 64, 67, 0.3), 0 1px 3px 1px rgba(60, 64, 67, 0.15);\n",
              "    fill: var(--button-hover-fill-color);\n",
              "  }\n",
              "\n",
              "  .colab-df-quickchart-complete:disabled,\n",
              "  .colab-df-quickchart-complete:disabled:hover {\n",
              "    background-color: var(--disabled-bg-color);\n",
              "    fill: var(--disabled-fill-color);\n",
              "    box-shadow: none;\n",
              "  }\n",
              "\n",
              "  .colab-df-spinner {\n",
              "    border: 2px solid var(--fill-color);\n",
              "    border-color: transparent;\n",
              "    border-bottom-color: var(--fill-color);\n",
              "    animation:\n",
              "      spin 1s steps(1) infinite;\n",
              "  }\n",
              "\n",
              "  @keyframes spin {\n",
              "    0% {\n",
              "      border-color: transparent;\n",
              "      border-bottom-color: var(--fill-color);\n",
              "      border-left-color: var(--fill-color);\n",
              "    }\n",
              "    20% {\n",
              "      border-color: transparent;\n",
              "      border-left-color: var(--fill-color);\n",
              "      border-top-color: var(--fill-color);\n",
              "    }\n",
              "    30% {\n",
              "      border-color: transparent;\n",
              "      border-left-color: var(--fill-color);\n",
              "      border-top-color: var(--fill-color);\n",
              "      border-right-color: var(--fill-color);\n",
              "    }\n",
              "    40% {\n",
              "      border-color: transparent;\n",
              "      border-right-color: var(--fill-color);\n",
              "      border-top-color: var(--fill-color);\n",
              "    }\n",
              "    60% {\n",
              "      border-color: transparent;\n",
              "      border-right-color: var(--fill-color);\n",
              "    }\n",
              "    80% {\n",
              "      border-color: transparent;\n",
              "      border-right-color: var(--fill-color);\n",
              "      border-bottom-color: var(--fill-color);\n",
              "    }\n",
              "    90% {\n",
              "      border-color: transparent;\n",
              "      border-bottom-color: var(--fill-color);\n",
              "    }\n",
              "  }\n",
              "</style>\n",
              "\n",
              "  <script>\n",
              "    async function quickchart(key) {\n",
              "      const quickchartButtonEl =\n",
              "        document.querySelector('#' + key + ' button');\n",
              "      quickchartButtonEl.disabled = true;  // To prevent multiple clicks.\n",
              "      quickchartButtonEl.classList.add('colab-df-spinner');\n",
              "      try {\n",
              "        const charts = await google.colab.kernel.invokeFunction(\n",
              "            'suggestCharts', [key], {});\n",
              "      } catch (error) {\n",
              "        console.error('Error during call to suggestCharts:', error);\n",
              "      }\n",
              "      quickchartButtonEl.classList.remove('colab-df-spinner');\n",
              "      quickchartButtonEl.classList.add('colab-df-quickchart-complete');\n",
              "    }\n",
              "    (() => {\n",
              "      let quickchartButtonEl =\n",
              "        document.querySelector('#df-eceb9384-31e2-42ac-9969-ebe6aaca00db button');\n",
              "      quickchartButtonEl.style.display =\n",
              "        google.colab.kernel.accessAllowed ? 'block' : 'none';\n",
              "    })();\n",
              "  </script>\n",
              "</div>\n",
              "    </div>\n",
              "  </div>\n"
            ]
          },
          "metadata": {},
          "execution_count": 229
        }
      ]
    },
    {
      "cell_type": "markdown",
      "source": [
        "## NLTK RSLP\n",
        "\n",
        "> NLTK RSLP (Removedor de Sufixos da Língua Portuguesa) é um conjunto de funções de tratamento de textos especifico para a nossa língua portuguesa (pt-br)."
      ],
      "metadata": {
        "id": "S-O7cwBqMH41"
      }
    },
    {
      "cell_type": "code",
      "source": [
        "nltk.download('rslp')"
      ],
      "metadata": {
        "colab": {
          "base_uri": "https://localhost:8080/"
        },
        "id": "dk2uqHdoMV7y",
        "outputId": "3aaa05b9-3c0b-4248-a8f2-f77a390a16d8"
      },
      "execution_count": null,
      "outputs": [
        {
          "output_type": "stream",
          "name": "stderr",
          "text": [
            "[nltk_data] Downloading package rslp to /root/nltk_data...\n",
            "[nltk_data]   Package rslp is already up-to-date!\n"
          ]
        },
        {
          "output_type": "execute_result",
          "data": {
            "text/plain": [
              "True"
            ]
          },
          "metadata": {},
          "execution_count": 222
        }
      ]
    },
    {
      "cell_type": "code",
      "source": [
        "stemmer = nltk.stem.RSLPStemmer()"
      ],
      "metadata": {
        "id": "oVCtaobrMf_Y"
      },
      "execution_count": null,
      "outputs": []
    },
    {
      "cell_type": "code",
      "source": [
        "df_palavras['nltk_stemmer'] = [stemmer.stem(palavra) for palavra in df_palavras['Original']]\n",
        "df_palavras"
      ],
      "metadata": {
        "colab": {
          "base_uri": "https://localhost:8080/",
          "height": 174
        },
        "id": "Vn7FajFoMm10",
        "outputId": "71679f41-8793-418f-edbf-3fe810f9744b"
      },
      "execution_count": null,
      "outputs": [
        {
          "output_type": "execute_result",
          "data": {
            "text/plain": [
              "    Original nltk_stemmer\n",
              "0      avião          avi\n",
              "1     aviões          avi\n",
              "2   carreira         carr\n",
              "3  carreiras         carr"
            ],
            "text/html": [
              "\n",
              "  <div id=\"df-b5f84b3c-65d2-4fde-8a81-c4f0be4684d8\" class=\"colab-df-container\">\n",
              "    <div>\n",
              "<style scoped>\n",
              "    .dataframe tbody tr th:only-of-type {\n",
              "        vertical-align: middle;\n",
              "    }\n",
              "\n",
              "    .dataframe tbody tr th {\n",
              "        vertical-align: top;\n",
              "    }\n",
              "\n",
              "    .dataframe thead th {\n",
              "        text-align: right;\n",
              "    }\n",
              "</style>\n",
              "<table border=\"1\" class=\"dataframe\">\n",
              "  <thead>\n",
              "    <tr style=\"text-align: right;\">\n",
              "      <th></th>\n",
              "      <th>Original</th>\n",
              "      <th>nltk_stemmer</th>\n",
              "    </tr>\n",
              "  </thead>\n",
              "  <tbody>\n",
              "    <tr>\n",
              "      <th>0</th>\n",
              "      <td>avião</td>\n",
              "      <td>avi</td>\n",
              "    </tr>\n",
              "    <tr>\n",
              "      <th>1</th>\n",
              "      <td>aviões</td>\n",
              "      <td>avi</td>\n",
              "    </tr>\n",
              "    <tr>\n",
              "      <th>2</th>\n",
              "      <td>carreira</td>\n",
              "      <td>carr</td>\n",
              "    </tr>\n",
              "    <tr>\n",
              "      <th>3</th>\n",
              "      <td>carreiras</td>\n",
              "      <td>carr</td>\n",
              "    </tr>\n",
              "  </tbody>\n",
              "</table>\n",
              "</div>\n",
              "    <div class=\"colab-df-buttons\">\n",
              "\n",
              "  <div class=\"colab-df-container\">\n",
              "    <button class=\"colab-df-convert\" onclick=\"convertToInteractive('df-b5f84b3c-65d2-4fde-8a81-c4f0be4684d8')\"\n",
              "            title=\"Convert this dataframe to an interactive table.\"\n",
              "            style=\"display:none;\">\n",
              "\n",
              "  <svg xmlns=\"http://www.w3.org/2000/svg\" height=\"24px\" viewBox=\"0 -960 960 960\">\n",
              "    <path d=\"M120-120v-720h720v720H120Zm60-500h600v-160H180v160Zm220 220h160v-160H400v160Zm0 220h160v-160H400v160ZM180-400h160v-160H180v160Zm440 0h160v-160H620v160ZM180-180h160v-160H180v160Zm440 0h160v-160H620v160Z\"/>\n",
              "  </svg>\n",
              "    </button>\n",
              "\n",
              "  <style>\n",
              "    .colab-df-container {\n",
              "      display:flex;\n",
              "      gap: 12px;\n",
              "    }\n",
              "\n",
              "    .colab-df-convert {\n",
              "      background-color: #E8F0FE;\n",
              "      border: none;\n",
              "      border-radius: 50%;\n",
              "      cursor: pointer;\n",
              "      display: none;\n",
              "      fill: #1967D2;\n",
              "      height: 32px;\n",
              "      padding: 0 0 0 0;\n",
              "      width: 32px;\n",
              "    }\n",
              "\n",
              "    .colab-df-convert:hover {\n",
              "      background-color: #E2EBFA;\n",
              "      box-shadow: 0px 1px 2px rgba(60, 64, 67, 0.3), 0px 1px 3px 1px rgba(60, 64, 67, 0.15);\n",
              "      fill: #174EA6;\n",
              "    }\n",
              "\n",
              "    .colab-df-buttons div {\n",
              "      margin-bottom: 4px;\n",
              "    }\n",
              "\n",
              "    [theme=dark] .colab-df-convert {\n",
              "      background-color: #3B4455;\n",
              "      fill: #D2E3FC;\n",
              "    }\n",
              "\n",
              "    [theme=dark] .colab-df-convert:hover {\n",
              "      background-color: #434B5C;\n",
              "      box-shadow: 0px 1px 3px 1px rgba(0, 0, 0, 0.15);\n",
              "      filter: drop-shadow(0px 1px 2px rgba(0, 0, 0, 0.3));\n",
              "      fill: #FFFFFF;\n",
              "    }\n",
              "  </style>\n",
              "\n",
              "    <script>\n",
              "      const buttonEl =\n",
              "        document.querySelector('#df-b5f84b3c-65d2-4fde-8a81-c4f0be4684d8 button.colab-df-convert');\n",
              "      buttonEl.style.display =\n",
              "        google.colab.kernel.accessAllowed ? 'block' : 'none';\n",
              "\n",
              "      async function convertToInteractive(key) {\n",
              "        const element = document.querySelector('#df-b5f84b3c-65d2-4fde-8a81-c4f0be4684d8');\n",
              "        const dataTable =\n",
              "          await google.colab.kernel.invokeFunction('convertToInteractive',\n",
              "                                                    [key], {});\n",
              "        if (!dataTable) return;\n",
              "\n",
              "        const docLinkHtml = 'Like what you see? Visit the ' +\n",
              "          '<a target=\"_blank\" href=https://colab.research.google.com/notebooks/data_table.ipynb>data table notebook</a>'\n",
              "          + ' to learn more about interactive tables.';\n",
              "        element.innerHTML = '';\n",
              "        dataTable['output_type'] = 'display_data';\n",
              "        await google.colab.output.renderOutput(dataTable, element);\n",
              "        const docLink = document.createElement('div');\n",
              "        docLink.innerHTML = docLinkHtml;\n",
              "        element.appendChild(docLink);\n",
              "      }\n",
              "    </script>\n",
              "  </div>\n",
              "\n",
              "\n",
              "<div id=\"df-f50c59e0-3cc1-4527-a6ec-51ff98d6c62e\">\n",
              "  <button class=\"colab-df-quickchart\" onclick=\"quickchart('df-f50c59e0-3cc1-4527-a6ec-51ff98d6c62e')\"\n",
              "            title=\"Suggest charts.\"\n",
              "            style=\"display:none;\">\n",
              "\n",
              "<svg xmlns=\"http://www.w3.org/2000/svg\" height=\"24px\"viewBox=\"0 0 24 24\"\n",
              "     width=\"24px\">\n",
              "    <g>\n",
              "        <path d=\"M19 3H5c-1.1 0-2 .9-2 2v14c0 1.1.9 2 2 2h14c1.1 0 2-.9 2-2V5c0-1.1-.9-2-2-2zM9 17H7v-7h2v7zm4 0h-2V7h2v10zm4 0h-2v-4h2v4z\"/>\n",
              "    </g>\n",
              "</svg>\n",
              "  </button>\n",
              "\n",
              "<style>\n",
              "  .colab-df-quickchart {\n",
              "      --bg-color: #E8F0FE;\n",
              "      --fill-color: #1967D2;\n",
              "      --hover-bg-color: #E2EBFA;\n",
              "      --hover-fill-color: #174EA6;\n",
              "      --disabled-fill-color: #AAA;\n",
              "      --disabled-bg-color: #DDD;\n",
              "  }\n",
              "\n",
              "  [theme=dark] .colab-df-quickchart {\n",
              "      --bg-color: #3B4455;\n",
              "      --fill-color: #D2E3FC;\n",
              "      --hover-bg-color: #434B5C;\n",
              "      --hover-fill-color: #FFFFFF;\n",
              "      --disabled-bg-color: #3B4455;\n",
              "      --disabled-fill-color: #666;\n",
              "  }\n",
              "\n",
              "  .colab-df-quickchart {\n",
              "    background-color: var(--bg-color);\n",
              "    border: none;\n",
              "    border-radius: 50%;\n",
              "    cursor: pointer;\n",
              "    display: none;\n",
              "    fill: var(--fill-color);\n",
              "    height: 32px;\n",
              "    padding: 0;\n",
              "    width: 32px;\n",
              "  }\n",
              "\n",
              "  .colab-df-quickchart:hover {\n",
              "    background-color: var(--hover-bg-color);\n",
              "    box-shadow: 0 1px 2px rgba(60, 64, 67, 0.3), 0 1px 3px 1px rgba(60, 64, 67, 0.15);\n",
              "    fill: var(--button-hover-fill-color);\n",
              "  }\n",
              "\n",
              "  .colab-df-quickchart-complete:disabled,\n",
              "  .colab-df-quickchart-complete:disabled:hover {\n",
              "    background-color: var(--disabled-bg-color);\n",
              "    fill: var(--disabled-fill-color);\n",
              "    box-shadow: none;\n",
              "  }\n",
              "\n",
              "  .colab-df-spinner {\n",
              "    border: 2px solid var(--fill-color);\n",
              "    border-color: transparent;\n",
              "    border-bottom-color: var(--fill-color);\n",
              "    animation:\n",
              "      spin 1s steps(1) infinite;\n",
              "  }\n",
              "\n",
              "  @keyframes spin {\n",
              "    0% {\n",
              "      border-color: transparent;\n",
              "      border-bottom-color: var(--fill-color);\n",
              "      border-left-color: var(--fill-color);\n",
              "    }\n",
              "    20% {\n",
              "      border-color: transparent;\n",
              "      border-left-color: var(--fill-color);\n",
              "      border-top-color: var(--fill-color);\n",
              "    }\n",
              "    30% {\n",
              "      border-color: transparent;\n",
              "      border-left-color: var(--fill-color);\n",
              "      border-top-color: var(--fill-color);\n",
              "      border-right-color: var(--fill-color);\n",
              "    }\n",
              "    40% {\n",
              "      border-color: transparent;\n",
              "      border-right-color: var(--fill-color);\n",
              "      border-top-color: var(--fill-color);\n",
              "    }\n",
              "    60% {\n",
              "      border-color: transparent;\n",
              "      border-right-color: var(--fill-color);\n",
              "    }\n",
              "    80% {\n",
              "      border-color: transparent;\n",
              "      border-right-color: var(--fill-color);\n",
              "      border-bottom-color: var(--fill-color);\n",
              "    }\n",
              "    90% {\n",
              "      border-color: transparent;\n",
              "      border-bottom-color: var(--fill-color);\n",
              "    }\n",
              "  }\n",
              "</style>\n",
              "\n",
              "  <script>\n",
              "    async function quickchart(key) {\n",
              "      const quickchartButtonEl =\n",
              "        document.querySelector('#' + key + ' button');\n",
              "      quickchartButtonEl.disabled = true;  // To prevent multiple clicks.\n",
              "      quickchartButtonEl.classList.add('colab-df-spinner');\n",
              "      try {\n",
              "        const charts = await google.colab.kernel.invokeFunction(\n",
              "            'suggestCharts', [key], {});\n",
              "      } catch (error) {\n",
              "        console.error('Error during call to suggestCharts:', error);\n",
              "      }\n",
              "      quickchartButtonEl.classList.remove('colab-df-spinner');\n",
              "      quickchartButtonEl.classList.add('colab-df-quickchart-complete');\n",
              "    }\n",
              "    (() => {\n",
              "      let quickchartButtonEl =\n",
              "        document.querySelector('#df-f50c59e0-3cc1-4527-a6ec-51ff98d6c62e button');\n",
              "      quickchartButtonEl.style.display =\n",
              "        google.colab.kernel.accessAllowed ? 'block' : 'none';\n",
              "    })();\n",
              "  </script>\n",
              "</div>\n",
              "    </div>\n",
              "  </div>\n"
            ]
          },
          "metadata": {},
          "execution_count": 230
        }
      ]
    },
    {
      "cell_type": "markdown",
      "source": [
        "## LEMATIZAÇÃO\n",
        "\n",
        "> Na lemmatization também vamos buscar reduzir a palavra à sua raiz, retirando todas as inflexões e chegando ao lemma. Porém, essa redução sempre resultará em uma palavra que realmente existe na gramática. Outro ponto importante é que, nessa técnica, a classe gramatical da palavra será levada em consideração para fazer a redução. Vamos agora utilizar a biblioteca spaCy para aplicar essa técnica."
      ],
      "metadata": {
        "id": "E0tLJzcSNE8n"
      }
    },
    {
      "cell_type": "markdown",
      "source": [
        "### spaCy\n",
        "\n",
        "> spaCy é uma biblioteca para processamento avançado de linguagem natural, escrita nas linguagens de programação Python e Cython"
      ],
      "metadata": {
        "id": "op2M3pAjNJ3W"
      }
    },
    {
      "cell_type": "code",
      "source": [
        "!python -m spacy download pt_core_news_sm\n",
        "\n",
        "#pt_core_news_sm = small\n",
        "#pt_core_news_md = medium\n",
        "#pt_core_news_lg = large"
      ],
      "metadata": {
        "colab": {
          "base_uri": "https://localhost:8080/"
        },
        "id": "-An4sgrmNZhR",
        "outputId": "b5c4b3b7-ab54-41ea-f8d8-5917683a5d02"
      },
      "execution_count": null,
      "outputs": [
        {
          "output_type": "stream",
          "name": "stdout",
          "text": [
            "2023-11-01 23:34:44.285213: E tensorflow/compiler/xla/stream_executor/cuda/cuda_dnn.cc:9342] Unable to register cuDNN factory: Attempting to register factory for plugin cuDNN when one has already been registered\n",
            "2023-11-01 23:34:44.285287: E tensorflow/compiler/xla/stream_executor/cuda/cuda_fft.cc:609] Unable to register cuFFT factory: Attempting to register factory for plugin cuFFT when one has already been registered\n",
            "2023-11-01 23:34:44.285321: E tensorflow/compiler/xla/stream_executor/cuda/cuda_blas.cc:1518] Unable to register cuBLAS factory: Attempting to register factory for plugin cuBLAS when one has already been registered\n",
            "2023-11-01 23:34:45.852956: W tensorflow/compiler/tf2tensorrt/utils/py_utils.cc:38] TF-TRT Warning: Could not find TensorRT\n",
            "Collecting pt-core-news-sm==3.6.0\n",
            "  Downloading https://github.com/explosion/spacy-models/releases/download/pt_core_news_sm-3.6.0/pt_core_news_sm-3.6.0-py3-none-any.whl (13.0 MB)\n",
            "\u001b[2K     \u001b[90m━━━━━━━━━━━━━━━━━━━━━━━━━━━━━━━━━━━━━━━━\u001b[0m \u001b[32m13.0/13.0 MB\u001b[0m \u001b[31m79.3 MB/s\u001b[0m eta \u001b[36m0:00:00\u001b[0m\n",
            "\u001b[?25hRequirement already satisfied: spacy<3.7.0,>=3.6.0 in /usr/local/lib/python3.10/dist-packages (from pt-core-news-sm==3.6.0) (3.6.1)\n",
            "Requirement already satisfied: spacy-legacy<3.1.0,>=3.0.11 in /usr/local/lib/python3.10/dist-packages (from spacy<3.7.0,>=3.6.0->pt-core-news-sm==3.6.0) (3.0.12)\n",
            "Requirement already satisfied: spacy-loggers<2.0.0,>=1.0.0 in /usr/local/lib/python3.10/dist-packages (from spacy<3.7.0,>=3.6.0->pt-core-news-sm==3.6.0) (1.0.5)\n",
            "Requirement already satisfied: murmurhash<1.1.0,>=0.28.0 in /usr/local/lib/python3.10/dist-packages (from spacy<3.7.0,>=3.6.0->pt-core-news-sm==3.6.0) (1.0.10)\n",
            "Requirement already satisfied: cymem<2.1.0,>=2.0.2 in /usr/local/lib/python3.10/dist-packages (from spacy<3.7.0,>=3.6.0->pt-core-news-sm==3.6.0) (2.0.8)\n",
            "Requirement already satisfied: preshed<3.1.0,>=3.0.2 in /usr/local/lib/python3.10/dist-packages (from spacy<3.7.0,>=3.6.0->pt-core-news-sm==3.6.0) (3.0.9)\n",
            "Requirement already satisfied: thinc<8.2.0,>=8.1.8 in /usr/local/lib/python3.10/dist-packages (from spacy<3.7.0,>=3.6.0->pt-core-news-sm==3.6.0) (8.1.12)\n",
            "Requirement already satisfied: wasabi<1.2.0,>=0.9.1 in /usr/local/lib/python3.10/dist-packages (from spacy<3.7.0,>=3.6.0->pt-core-news-sm==3.6.0) (1.1.2)\n",
            "Requirement already satisfied: srsly<3.0.0,>=2.4.3 in /usr/local/lib/python3.10/dist-packages (from spacy<3.7.0,>=3.6.0->pt-core-news-sm==3.6.0) (2.4.8)\n",
            "Requirement already satisfied: catalogue<2.1.0,>=2.0.6 in /usr/local/lib/python3.10/dist-packages (from spacy<3.7.0,>=3.6.0->pt-core-news-sm==3.6.0) (2.0.10)\n",
            "Requirement already satisfied: typer<0.10.0,>=0.3.0 in /usr/local/lib/python3.10/dist-packages (from spacy<3.7.0,>=3.6.0->pt-core-news-sm==3.6.0) (0.9.0)\n",
            "Requirement already satisfied: pathy>=0.10.0 in /usr/local/lib/python3.10/dist-packages (from spacy<3.7.0,>=3.6.0->pt-core-news-sm==3.6.0) (0.10.3)\n",
            "Requirement already satisfied: smart-open<7.0.0,>=5.2.1 in /usr/local/lib/python3.10/dist-packages (from spacy<3.7.0,>=3.6.0->pt-core-news-sm==3.6.0) (6.4.0)\n",
            "Requirement already satisfied: tqdm<5.0.0,>=4.38.0 in /usr/local/lib/python3.10/dist-packages (from spacy<3.7.0,>=3.6.0->pt-core-news-sm==3.6.0) (4.66.1)\n",
            "Requirement already satisfied: numpy>=1.15.0 in /usr/local/lib/python3.10/dist-packages (from spacy<3.7.0,>=3.6.0->pt-core-news-sm==3.6.0) (1.23.5)\n",
            "Requirement already satisfied: requests<3.0.0,>=2.13.0 in /usr/local/lib/python3.10/dist-packages (from spacy<3.7.0,>=3.6.0->pt-core-news-sm==3.6.0) (2.31.0)\n",
            "Requirement already satisfied: pydantic!=1.8,!=1.8.1,<3.0.0,>=1.7.4 in /usr/local/lib/python3.10/dist-packages (from spacy<3.7.0,>=3.6.0->pt-core-news-sm==3.6.0) (1.10.13)\n",
            "Requirement already satisfied: jinja2 in /usr/local/lib/python3.10/dist-packages (from spacy<3.7.0,>=3.6.0->pt-core-news-sm==3.6.0) (3.1.2)\n",
            "Requirement already satisfied: setuptools in /usr/local/lib/python3.10/dist-packages (from spacy<3.7.0,>=3.6.0->pt-core-news-sm==3.6.0) (67.7.2)\n",
            "Requirement already satisfied: packaging>=20.0 in /usr/local/lib/python3.10/dist-packages (from spacy<3.7.0,>=3.6.0->pt-core-news-sm==3.6.0) (23.2)\n",
            "Requirement already satisfied: langcodes<4.0.0,>=3.2.0 in /usr/local/lib/python3.10/dist-packages (from spacy<3.7.0,>=3.6.0->pt-core-news-sm==3.6.0) (3.3.0)\n",
            "Requirement already satisfied: typing-extensions>=4.2.0 in /usr/local/lib/python3.10/dist-packages (from pydantic!=1.8,!=1.8.1,<3.0.0,>=1.7.4->spacy<3.7.0,>=3.6.0->pt-core-news-sm==3.6.0) (4.5.0)\n",
            "Requirement already satisfied: charset-normalizer<4,>=2 in /usr/local/lib/python3.10/dist-packages (from requests<3.0.0,>=2.13.0->spacy<3.7.0,>=3.6.0->pt-core-news-sm==3.6.0) (3.3.1)\n",
            "Requirement already satisfied: idna<4,>=2.5 in /usr/local/lib/python3.10/dist-packages (from requests<3.0.0,>=2.13.0->spacy<3.7.0,>=3.6.0->pt-core-news-sm==3.6.0) (3.4)\n",
            "Requirement already satisfied: urllib3<3,>=1.21.1 in /usr/local/lib/python3.10/dist-packages (from requests<3.0.0,>=2.13.0->spacy<3.7.0,>=3.6.0->pt-core-news-sm==3.6.0) (2.0.7)\n",
            "Requirement already satisfied: certifi>=2017.4.17 in /usr/local/lib/python3.10/dist-packages (from requests<3.0.0,>=2.13.0->spacy<3.7.0,>=3.6.0->pt-core-news-sm==3.6.0) (2023.7.22)\n",
            "Requirement already satisfied: blis<0.8.0,>=0.7.8 in /usr/local/lib/python3.10/dist-packages (from thinc<8.2.0,>=8.1.8->spacy<3.7.0,>=3.6.0->pt-core-news-sm==3.6.0) (0.7.11)\n",
            "Requirement already satisfied: confection<1.0.0,>=0.0.1 in /usr/local/lib/python3.10/dist-packages (from thinc<8.2.0,>=8.1.8->spacy<3.7.0,>=3.6.0->pt-core-news-sm==3.6.0) (0.1.3)\n",
            "Requirement already satisfied: click<9.0.0,>=7.1.1 in /usr/local/lib/python3.10/dist-packages (from typer<0.10.0,>=0.3.0->spacy<3.7.0,>=3.6.0->pt-core-news-sm==3.6.0) (8.1.7)\n",
            "Requirement already satisfied: MarkupSafe>=2.0 in /usr/local/lib/python3.10/dist-packages (from jinja2->spacy<3.7.0,>=3.6.0->pt-core-news-sm==3.6.0) (2.1.3)\n",
            "\u001b[38;5;2m✔ Download and installation successful\u001b[0m\n",
            "You can now load the package via spacy.load('pt_core_news_sm')\n"
          ]
        }
      ]
    },
    {
      "cell_type": "code",
      "source": [
        "import spacy\n",
        "nlp = spacy.load('pt_core_news_sm')"
      ],
      "metadata": {
        "id": "lYbiPBZUNktq"
      },
      "execution_count": null,
      "outputs": []
    },
    {
      "cell_type": "code",
      "source": [
        "doc = nlp(str([palavra for palavra in df_palavras['Original']]))"
      ],
      "metadata": {
        "id": "YuiNAvHANqFr"
      },
      "execution_count": null,
      "outputs": []
    },
    {
      "cell_type": "code",
      "source": [
        "df_palavras['spacy_lemma'] = [token.lemma_ for token in doc if token.pos_ == 'NOUN']\n",
        "df_palavras"
      ],
      "metadata": {
        "colab": {
          "base_uri": "https://localhost:8080/",
          "height": 174
        },
        "id": "q9nNZHL3Ntmi",
        "outputId": "26c93aad-32ef-4a35-a2fa-ed1e13c664c0"
      },
      "execution_count": null,
      "outputs": [
        {
          "output_type": "execute_result",
          "data": {
            "text/plain": [
              "    Original nltk_stemmer spacy_lemma\n",
              "0      avião          avi       avião\n",
              "1     aviões          avi       avião\n",
              "2   carreira         carr    carreira\n",
              "3  carreiras         carr    carreira"
            ],
            "text/html": [
              "\n",
              "  <div id=\"df-ffe3e0aa-b199-4f76-9e16-765daccaa107\" class=\"colab-df-container\">\n",
              "    <div>\n",
              "<style scoped>\n",
              "    .dataframe tbody tr th:only-of-type {\n",
              "        vertical-align: middle;\n",
              "    }\n",
              "\n",
              "    .dataframe tbody tr th {\n",
              "        vertical-align: top;\n",
              "    }\n",
              "\n",
              "    .dataframe thead th {\n",
              "        text-align: right;\n",
              "    }\n",
              "</style>\n",
              "<table border=\"1\" class=\"dataframe\">\n",
              "  <thead>\n",
              "    <tr style=\"text-align: right;\">\n",
              "      <th></th>\n",
              "      <th>Original</th>\n",
              "      <th>nltk_stemmer</th>\n",
              "      <th>spacy_lemma</th>\n",
              "    </tr>\n",
              "  </thead>\n",
              "  <tbody>\n",
              "    <tr>\n",
              "      <th>0</th>\n",
              "      <td>avião</td>\n",
              "      <td>avi</td>\n",
              "      <td>avião</td>\n",
              "    </tr>\n",
              "    <tr>\n",
              "      <th>1</th>\n",
              "      <td>aviões</td>\n",
              "      <td>avi</td>\n",
              "      <td>avião</td>\n",
              "    </tr>\n",
              "    <tr>\n",
              "      <th>2</th>\n",
              "      <td>carreira</td>\n",
              "      <td>carr</td>\n",
              "      <td>carreira</td>\n",
              "    </tr>\n",
              "    <tr>\n",
              "      <th>3</th>\n",
              "      <td>carreiras</td>\n",
              "      <td>carr</td>\n",
              "      <td>carreira</td>\n",
              "    </tr>\n",
              "  </tbody>\n",
              "</table>\n",
              "</div>\n",
              "    <div class=\"colab-df-buttons\">\n",
              "\n",
              "  <div class=\"colab-df-container\">\n",
              "    <button class=\"colab-df-convert\" onclick=\"convertToInteractive('df-ffe3e0aa-b199-4f76-9e16-765daccaa107')\"\n",
              "            title=\"Convert this dataframe to an interactive table.\"\n",
              "            style=\"display:none;\">\n",
              "\n",
              "  <svg xmlns=\"http://www.w3.org/2000/svg\" height=\"24px\" viewBox=\"0 -960 960 960\">\n",
              "    <path d=\"M120-120v-720h720v720H120Zm60-500h600v-160H180v160Zm220 220h160v-160H400v160Zm0 220h160v-160H400v160ZM180-400h160v-160H180v160Zm440 0h160v-160H620v160ZM180-180h160v-160H180v160Zm440 0h160v-160H620v160Z\"/>\n",
              "  </svg>\n",
              "    </button>\n",
              "\n",
              "  <style>\n",
              "    .colab-df-container {\n",
              "      display:flex;\n",
              "      gap: 12px;\n",
              "    }\n",
              "\n",
              "    .colab-df-convert {\n",
              "      background-color: #E8F0FE;\n",
              "      border: none;\n",
              "      border-radius: 50%;\n",
              "      cursor: pointer;\n",
              "      display: none;\n",
              "      fill: #1967D2;\n",
              "      height: 32px;\n",
              "      padding: 0 0 0 0;\n",
              "      width: 32px;\n",
              "    }\n",
              "\n",
              "    .colab-df-convert:hover {\n",
              "      background-color: #E2EBFA;\n",
              "      box-shadow: 0px 1px 2px rgba(60, 64, 67, 0.3), 0px 1px 3px 1px rgba(60, 64, 67, 0.15);\n",
              "      fill: #174EA6;\n",
              "    }\n",
              "\n",
              "    .colab-df-buttons div {\n",
              "      margin-bottom: 4px;\n",
              "    }\n",
              "\n",
              "    [theme=dark] .colab-df-convert {\n",
              "      background-color: #3B4455;\n",
              "      fill: #D2E3FC;\n",
              "    }\n",
              "\n",
              "    [theme=dark] .colab-df-convert:hover {\n",
              "      background-color: #434B5C;\n",
              "      box-shadow: 0px 1px 3px 1px rgba(0, 0, 0, 0.15);\n",
              "      filter: drop-shadow(0px 1px 2px rgba(0, 0, 0, 0.3));\n",
              "      fill: #FFFFFF;\n",
              "    }\n",
              "  </style>\n",
              "\n",
              "    <script>\n",
              "      const buttonEl =\n",
              "        document.querySelector('#df-ffe3e0aa-b199-4f76-9e16-765daccaa107 button.colab-df-convert');\n",
              "      buttonEl.style.display =\n",
              "        google.colab.kernel.accessAllowed ? 'block' : 'none';\n",
              "\n",
              "      async function convertToInteractive(key) {\n",
              "        const element = document.querySelector('#df-ffe3e0aa-b199-4f76-9e16-765daccaa107');\n",
              "        const dataTable =\n",
              "          await google.colab.kernel.invokeFunction('convertToInteractive',\n",
              "                                                    [key], {});\n",
              "        if (!dataTable) return;\n",
              "\n",
              "        const docLinkHtml = 'Like what you see? Visit the ' +\n",
              "          '<a target=\"_blank\" href=https://colab.research.google.com/notebooks/data_table.ipynb>data table notebook</a>'\n",
              "          + ' to learn more about interactive tables.';\n",
              "        element.innerHTML = '';\n",
              "        dataTable['output_type'] = 'display_data';\n",
              "        await google.colab.output.renderOutput(dataTable, element);\n",
              "        const docLink = document.createElement('div');\n",
              "        docLink.innerHTML = docLinkHtml;\n",
              "        element.appendChild(docLink);\n",
              "      }\n",
              "    </script>\n",
              "  </div>\n",
              "\n",
              "\n",
              "<div id=\"df-acfec134-c425-4203-a9e1-2856dd0602c0\">\n",
              "  <button class=\"colab-df-quickchart\" onclick=\"quickchart('df-acfec134-c425-4203-a9e1-2856dd0602c0')\"\n",
              "            title=\"Suggest charts.\"\n",
              "            style=\"display:none;\">\n",
              "\n",
              "<svg xmlns=\"http://www.w3.org/2000/svg\" height=\"24px\"viewBox=\"0 0 24 24\"\n",
              "     width=\"24px\">\n",
              "    <g>\n",
              "        <path d=\"M19 3H5c-1.1 0-2 .9-2 2v14c0 1.1.9 2 2 2h14c1.1 0 2-.9 2-2V5c0-1.1-.9-2-2-2zM9 17H7v-7h2v7zm4 0h-2V7h2v10zm4 0h-2v-4h2v4z\"/>\n",
              "    </g>\n",
              "</svg>\n",
              "  </button>\n",
              "\n",
              "<style>\n",
              "  .colab-df-quickchart {\n",
              "      --bg-color: #E8F0FE;\n",
              "      --fill-color: #1967D2;\n",
              "      --hover-bg-color: #E2EBFA;\n",
              "      --hover-fill-color: #174EA6;\n",
              "      --disabled-fill-color: #AAA;\n",
              "      --disabled-bg-color: #DDD;\n",
              "  }\n",
              "\n",
              "  [theme=dark] .colab-df-quickchart {\n",
              "      --bg-color: #3B4455;\n",
              "      --fill-color: #D2E3FC;\n",
              "      --hover-bg-color: #434B5C;\n",
              "      --hover-fill-color: #FFFFFF;\n",
              "      --disabled-bg-color: #3B4455;\n",
              "      --disabled-fill-color: #666;\n",
              "  }\n",
              "\n",
              "  .colab-df-quickchart {\n",
              "    background-color: var(--bg-color);\n",
              "    border: none;\n",
              "    border-radius: 50%;\n",
              "    cursor: pointer;\n",
              "    display: none;\n",
              "    fill: var(--fill-color);\n",
              "    height: 32px;\n",
              "    padding: 0;\n",
              "    width: 32px;\n",
              "  }\n",
              "\n",
              "  .colab-df-quickchart:hover {\n",
              "    background-color: var(--hover-bg-color);\n",
              "    box-shadow: 0 1px 2px rgba(60, 64, 67, 0.3), 0 1px 3px 1px rgba(60, 64, 67, 0.15);\n",
              "    fill: var(--button-hover-fill-color);\n",
              "  }\n",
              "\n",
              "  .colab-df-quickchart-complete:disabled,\n",
              "  .colab-df-quickchart-complete:disabled:hover {\n",
              "    background-color: var(--disabled-bg-color);\n",
              "    fill: var(--disabled-fill-color);\n",
              "    box-shadow: none;\n",
              "  }\n",
              "\n",
              "  .colab-df-spinner {\n",
              "    border: 2px solid var(--fill-color);\n",
              "    border-color: transparent;\n",
              "    border-bottom-color: var(--fill-color);\n",
              "    animation:\n",
              "      spin 1s steps(1) infinite;\n",
              "  }\n",
              "\n",
              "  @keyframes spin {\n",
              "    0% {\n",
              "      border-color: transparent;\n",
              "      border-bottom-color: var(--fill-color);\n",
              "      border-left-color: var(--fill-color);\n",
              "    }\n",
              "    20% {\n",
              "      border-color: transparent;\n",
              "      border-left-color: var(--fill-color);\n",
              "      border-top-color: var(--fill-color);\n",
              "    }\n",
              "    30% {\n",
              "      border-color: transparent;\n",
              "      border-left-color: var(--fill-color);\n",
              "      border-top-color: var(--fill-color);\n",
              "      border-right-color: var(--fill-color);\n",
              "    }\n",
              "    40% {\n",
              "      border-color: transparent;\n",
              "      border-right-color: var(--fill-color);\n",
              "      border-top-color: var(--fill-color);\n",
              "    }\n",
              "    60% {\n",
              "      border-color: transparent;\n",
              "      border-right-color: var(--fill-color);\n",
              "    }\n",
              "    80% {\n",
              "      border-color: transparent;\n",
              "      border-right-color: var(--fill-color);\n",
              "      border-bottom-color: var(--fill-color);\n",
              "    }\n",
              "    90% {\n",
              "      border-color: transparent;\n",
              "      border-bottom-color: var(--fill-color);\n",
              "    }\n",
              "  }\n",
              "</style>\n",
              "\n",
              "  <script>\n",
              "    async function quickchart(key) {\n",
              "      const quickchartButtonEl =\n",
              "        document.querySelector('#' + key + ' button');\n",
              "      quickchartButtonEl.disabled = true;  // To prevent multiple clicks.\n",
              "      quickchartButtonEl.classList.add('colab-df-spinner');\n",
              "      try {\n",
              "        const charts = await google.colab.kernel.invokeFunction(\n",
              "            'suggestCharts', [key], {});\n",
              "      } catch (error) {\n",
              "        console.error('Error during call to suggestCharts:', error);\n",
              "      }\n",
              "      quickchartButtonEl.classList.remove('colab-df-spinner');\n",
              "      quickchartButtonEl.classList.add('colab-df-quickchart-complete');\n",
              "    }\n",
              "    (() => {\n",
              "      let quickchartButtonEl =\n",
              "        document.querySelector('#df-acfec134-c425-4203-a9e1-2856dd0602c0 button');\n",
              "      quickchartButtonEl.style.display =\n",
              "        google.colab.kernel.accessAllowed ? 'block' : 'none';\n",
              "    })();\n",
              "  </script>\n",
              "</div>\n",
              "    </div>\n",
              "  </div>\n"
            ]
          },
          "metadata": {},
          "execution_count": 233
        }
      ]
    }
  ]
}